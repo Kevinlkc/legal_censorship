{
 "cells": [
  {
   "cell_type": "code",
   "execution_count": 1,
   "metadata": {},
   "outputs": [],
   "source": [
    "import pandas as pd\n",
    "import re\n",
    "import os\n",
    "import numpy as np\n",
    "import matplotlib.pyplot as plt\n",
    "from ast import literal_eval\n",
    "import geopandas as gpd"
   ]
  },
  {
   "cell_type": "code",
   "execution_count": 2,
   "metadata": {},
   "outputs": [],
   "source": [
    "wd = '/Users/kevin/Dropbox/legal_censorship/'"
   ]
  },
  {
   "cell_type": "code",
   "execution_count": 3,
   "metadata": {},
   "outputs": [],
   "source": [
    "# Idea: For the subset of censored documents, we want to know whether \"censorship\" increases their chance of getting more government procurement.\n",
    "# There could be 2 directions that we can explore \n",
    "    # --> whether \"gaining\" connection adds to the chance of the government's favor, \n",
    "    # --> or whether censorship helps the firm in terms of getting more procurements.\n",
    "# To answer (1), we would need a dataset at firm (or maybe firm by year) level, with an indicator variable of connection (recent connection)\n",
    "# To answer (2), we would need a dataset at firm-year, or even firm-month level, with an indicator variable of censorship at a certain year"
   ]
  },
  {
   "cell_type": "code",
   "execution_count": 4,
   "metadata": {},
   "outputs": [
    {
     "name": "stderr",
     "output_type": "stream",
     "text": [
      "/opt/anaconda3/lib/python3.7/site-packages/IPython/core/interactiveshell.py:3326: DtypeWarning: Columns (7) have mixed types.Specify dtype option on import or set low_memory=False.\n",
      "  exec(code_obj, self.user_global_ns, self.user_ns)\n"
     ]
    },
    {
     "data": {
      "text/plain": [
       "Index(['文书ID', '案件名称', '案号', '审判程序', '裁判日期', '发布日期', '法院名称', '案件类型', '公开类型',\n",
       "       '文书类型', '案由', 'docid', 'fname', 'county', 'pref', 'code', 'prefcode',\n",
       "       '原告loc', '被告loc', 'type_原被告', '上诉', '原告pay', '被告pay', '类型_pay', '案件受理费',\n",
       "       '受理费合计', '受理费减半', '受理费免收', '起诉', '申请', '立案', '受理', '撤诉', '开庭',\n",
       "       'court_date', 'plantifflose', 'winner', 'loser', 'local_winner',\n",
       "       'local_loser'],\n",
       "      dtype='object')"
      ]
     },
     "execution_count": 4,
     "metadata": {},
     "output_type": "execute_result"
    }
   ],
   "source": [
    "df_censor = pd.read_csv(wd+'Data/master.csv')\n",
    "df_censor.原告loc = df_censor.原告loc.apply(literal_eval)\n",
    "df_censor.被告loc = df_censor.被告loc.apply(literal_eval)\n",
    "\n",
    "df_censor_rescrape = pd.read_csv('/Users/kevin/Dropbox/legal_censorship/Data/rescraping/output/rescraping_cases_100k-result.csv', header=None)\n",
    "# 8.6 % of the master.csv is censored\n",
    "df_censor = df_censor[df_censor.案号.isin(df_censor_rescrape[df_censor_rescrape[4]=='未查询到'][2])]\n",
    "df_censor.columns"
   ]
  },
  {
   "cell_type": "code",
   "execution_count": 34,
   "metadata": {},
   "outputs": [],
   "source": [
    "# First pass of data cleaning: rough match using full company names\n",
    "# df_procure = pd.read_stata(wd+'Data/company_data/government_supplier_v2.dta')\n",
    "df_procure = pd.read_csv(wd+'Data/company_data/tianyancha_database/td_gov_company_clients_basic.csv', sep=';')\n",
    "# A few missing values: df_procure.ent_name.isin(['']).mean() == 0.06 %, remove them\n",
    "df_procure = df_procure[df_procure.ent_name!='']\n",
    "# Reading list objects from csv files requires some additional handling\n",
    "\n",
    "# We do observe an increase in the # of procurements right after the verdict censorship, but do we also observe the same case in sales amount\n",
    "# Data cleaning:\n",
    "# df_procure['sales_amount'].isin(['-']).mean() ~= 0.34\n",
    "df_procure['sales_amount'].replace('-', np.nan, inplace=True)\n",
    "df_procure['sales_amount'] = df_procure['sales_amount'].apply(lambda x: x.replace('万元', '') if isinstance(x, str) else x)\n",
    "\n",
    "def try_float(x):\n",
    "    if str(x) == 'nan':\n",
    "        return np.nan\n",
    "    try:\n",
    "        return float(x)\n",
    "    except:\n",
    "        return np.nan\n",
    "df_procure['sales_amount'] =  df_procure.sales_amount.apply(try_float)\n",
    "\n",
    "# Deal with extreme values\n",
    "# df_procure['sales_amount'] = df_procure['sales_amount'].apply(lambda x: x / 1e4 if x >= 1e6 else x)\n",
    "df_procure['sales_amount'] = df_procure['sales_amount'].apply(lambda x: np.nan if x <= 0 else x)\n",
    "df_procure['sales_amount'].fillna(df_procure.sales_amount.mean(), inplace=True)\n",
    "\n",
    "df_procure = df_procure[~df_procure.reporting_period.isna()]\n",
    "df_procure['reporting_period1'] = df_procure['reporting_period'].apply(lambda x: x[:4])\n",
    "df_procure['reporting_period2'] = df_procure['reporting_period'].apply(lambda x: x[5:7])\n",
    "df_procure['reporting_period3'] = df_procure['reporting_period'].apply(lambda x: x[8:10])\n",
    "\n",
    "df_procure_copy = df_procure.copy()"
   ]
  },
  {
   "cell_type": "code",
   "execution_count": 19,
   "metadata": {},
   "outputs": [
    {
     "data": {
      "image/png": "[encoded data removed]",
      "text/plain": [
       "<Figure size 432x288 with 1 Axes>"
      ]
     },
     "metadata": {
      "needs_background": "light"
     },
     "output_type": "display_data"
    }
   ],
   "source": [
    "# df_procure = df_procure_copy.copy()\n",
    "# # 1 -- for plaintiff, do they benefit from case censorship?\n",
    "# df_temp = df_censor[['原告loc', '被告loc', '文书ID']]\n",
    "# df_temp = df_temp.explode('原告loc')\n",
    "# df_temp['原告'] = df_temp['原告loc'].apply(lambda x: x[0] if isinstance(x, list) else np.nan)\n",
    "# procure_company_name = df_procure.ent_name.unique()\n",
    "# df_temp['connected'] = df_temp.原告.isin(procure_company_name)\n",
    "# # df_temp.connected.mean() == 0.044\n",
    "# # Wrong date coding with < 20 entries\n",
    "# df_procure = df_procure[df_procure.reporting_period < '2024']\n",
    "# df_procure = df_procure[df_procure.reporting_period > '2018']\n",
    "# df_procure = df_procure[df_procure.ent_name.isin(df_temp.原告.unique())]\n",
    "# # df_firmyear is now a transaction / procurement level dataset \n",
    "# df_firmyear = df_procure.groupby(['ent_name', 'reporting_period1', 'reporting_period2']).id.count().reset_index()\n",
    "# df_firmyear['yyyymm'] = df_firmyear.reporting_period1 + df_firmyear.reporting_period2\n",
    "# df_firmyear.set_index('ent_name', inplace=True)\n",
    "# # Ideally we want a panel dataset, as a balanced panel of all cross-products of firm*month\n",
    "# df_balanced = df_firmyear.set_index('yyyymm', append=True).unstack().stack(dropna=False).reset_index()\n",
    "# df_balanced['id'].fillna(0, inplace=True)\n",
    "# del df_balanced['reporting_period1'], df_balanced['reporting_period2']\n",
    "# df_balanced = df_balanced[(df_balanced.yyyymm > '2018')]\n",
    "# df_balanced['total_transactions'] = df_balanced.groupby('ent_name').id.transform(sum)\n",
    "\n",
    "# plt.figure()\n",
    "# plt.title('Judicial censorship and government procurement')\n",
    "# plt.bar(df_balanced.groupby('yyyymm').sum().reset_index().yyyymm, df_balanced.groupby('yyyymm').sum().reset_index().id, color='maroon')\n",
    "# plt.axvline(x='202106', color='grey', ls=':')\n",
    "# plt.xticks(['201801', '201901', '202001', '202101', '202201', '202301'], [2018, 2019, 2020, 2021, 2022, 2023])\n",
    "# plt.show()"
   ]
  },
  {
   "cell_type": "code",
   "execution_count": 20,
   "metadata": {},
   "outputs": [
    {
     "data": {
      "image/png": "[encoded data removed]",
      "text/plain": [
       "<Figure size 432x288 with 1 Axes>"
      ]
     },
     "metadata": {
      "needs_background": "light"
     },
     "output_type": "display_data"
    }
   ],
   "source": [
    "df_procure = df_procure_copy.copy()\n",
    "# 2 -- for defendants, do they benefit from case censorship?\n",
    "df_temp = df_censor[['原告loc', '被告loc', '文书ID']]\n",
    "df_temp = df_temp.explode('被告loc')\n",
    "df_temp['被告'] = df_temp['被告loc'].apply(lambda x: x[0] if isinstance(x, list) else np.nan)\n",
    "procure_company_name = df_procure.ent_name.unique()\n",
    "df_temp['connected'] = df_temp.被告.isin(procure_company_name)\n",
    "# df_temp.connected.mean() == 0.044\n",
    "# Wrong date coding with < 20 entries\n",
    "df_procure = df_procure[df_procure.reporting_period < '2023']\n",
    "df_procure = df_procure[df_procure.reporting_period > '2018']\n",
    "df_procure = df_procure[df_procure.ent_name.isin(df_temp.被告.unique())]\n",
    "# df_firmyear is now a transaction / procurement level dataset \n",
    "df_firmyear = df_procure.groupby(['ent_name', 'reporting_period1', 'reporting_period2']).id.count().reset_index()\n",
    "df_firmyear['yyyymm'] = df_firmyear.reporting_period1 + df_firmyear.reporting_period2\n",
    "df_firmyear.set_index('ent_name', inplace=True)\n",
    "# Ideally we want a panel dataset, as a balanced panel of all cross-products of firm*month\n",
    "df_balanced = df_firmyear.set_index('yyyymm', append=True).unstack().stack(dropna=False).reset_index()\n",
    "df_balanced['id'].fillna(0, inplace=True)\n",
    "del df_balanced['reporting_period1'], df_balanced['reporting_period2']\n",
    "df_balanced = df_balanced[(df_balanced.yyyymm > '2018')]\n",
    "df_balanced['total_transactions'] = df_balanced.groupby('ent_name').id.transform(sum)\n",
    "\n",
    "plt.figure()\n",
    "plt.title('Judicial censorship and government procurement')\n",
    "plt.bar(df_balanced.groupby('yyyymm').sum().reset_index().yyyymm, df_balanced.groupby('yyyymm').sum().reset_index().id, color='maroon')\n",
    "plt.axvline(x='202106', color='grey', ls=':')\n",
    "plt.xticks(['201801', '201901', '202001', '202101', '202201'], [2018, 2019, 2020, 2021, 2022])\n",
    "plt.show()"
   ]
  },
  {
   "cell_type": "code",
   "execution_count": 21,
   "metadata": {},
   "outputs": [
    {
     "data": {
      "image/png": "[encoded data removed]",
      "text/plain": [
       "<Figure size 432x288 with 1 Axes>"
      ]
     },
     "metadata": {
      "needs_background": "light"
     },
     "output_type": "display_data"
    }
   ],
   "source": [
    "df_procure = df_procure_copy.copy()\n",
    "# 3 -- what for the control group?\n",
    "df_procure['yyyymm'] = df_procure['reporting_period1'] + df_procure['reporting_period2']\n",
    "df_temp2 = df_procure.yyyymm.value_counts().reset_index()\n",
    "df_temp2 = df_temp2[df_temp2['index'] > '2018']\n",
    "df_temp2 = df_temp2[df_temp2['index'] < '2023']\n",
    "df_temp2.sort_values('index', inplace=True)\n",
    "\n",
    "# Plotting along the same line\n",
    "plt.figure()\n",
    "plt.title('Judicial censorship and government procurement')\n",
    "plt.bar(df_temp2['index'], df_temp2.yyyymm, color='maroon')\n",
    "plt.axvline(x='202106', color='grey', ls=':')\n",
    "plt.xticks(['201801', '201901', '202001', '202101', '202201'], [2018, 2019, 2020, 2021, 2022])\n",
    "plt.show()"
   ]
  },
  {
   "cell_type": "code",
   "execution_count": 32,
   "metadata": {},
   "outputs": [
    {
     "data": {
      "image/png": "[encoded data removed]",
      "text/plain": [
       "<Figure size 432x288 with 1 Axes>"
      ]
     },
     "metadata": {
      "needs_background": "light"
     },
     "output_type": "display_data"
    }
   ],
   "source": [
    "df_procure = df_procure_copy.copy()\n",
    "# 4 -- not counting the # of government procurement, but instead counting the amount\n",
    "# 4.2 defendant\n",
    "df_temp = df_censor[['原告loc', '被告loc', '文书ID']]\n",
    "df_temp = df_temp.explode('被告loc')\n",
    "df_temp['被告'] = df_temp['被告loc'].apply(lambda x: x[0] if isinstance(x, list) else np.nan)\n",
    "procure_company_name = df_procure.ent_name.unique()\n",
    "df_temp['connected'] = df_temp.被告.isin(procure_company_name)\n",
    "# df_temp.connected.mean() == 0.044\n",
    "# Wrong date coding with < 20 entries\n",
    "df_procure = df_procure[df_procure.reporting_period < '2023']\n",
    "df_procure = df_procure[df_procure.reporting_period > '2018']\n",
    "df_procure = df_procure[df_procure.ent_name.isin(df_temp.被告.unique())]\n",
    "# df_firmyear is now a transaction / procurement level dataset \n",
    "df_firmyear = df_procure.groupby(['ent_name', 'reporting_period1', 'reporting_period2']).sales_amount.sum().reset_index()\n",
    "df_firmyear['yyyymm'] = df_firmyear.reporting_period1 + df_firmyear.reporting_period2\n",
    "df_firmyear.set_index('ent_name', inplace=True)\n",
    "# Ideally we want a panel dataset, as a balanced panel of all cross-products of firm*month\n",
    "df_balanced = df_firmyear.set_index('yyyymm', append=True).unstack().stack(dropna=False).reset_index()\n",
    "df_balanced['sales_amount'].fillna(0, inplace=True)\n",
    "del df_balanced['reporting_period1'], df_balanced['reporting_period2']\n",
    "df_balanced = df_balanced[(df_balanced.yyyymm > '2018')]\n",
    "df_balanced['total_transactions'] = df_balanced.groupby('ent_name').sales_amount.transform(sum)\n",
    "\n",
    "plt.figure()\n",
    "plt.title('Judicial censorship and government procurement')\n",
    "plt.bar(df_balanced.groupby('yyyymm').sum().reset_index().yyyymm, df_balanced.groupby('yyyymm').mean().reset_index().sales_amount, color='maroon')\n",
    "plt.axvline(x='202106', color='grey', ls=':')\n",
    "plt.xticks(['201801', '201901', '202001', '202101', '202201'], [2018, 2019, 2020, 2021, 2022])\n",
    "plt.show()"
   ]
  },
  {
   "cell_type": "code",
   "execution_count": 33,
   "metadata": {},
   "outputs": [
    {
     "data": {
      "image/png": "[encoded data removed]",
      "text/plain": [
       "<Figure size 432x288 with 1 Axes>"
      ]
     },
     "metadata": {
      "needs_background": "light"
     },
     "output_type": "display_data"
    }
   ],
   "source": [
    "df_procure = df_procure_copy.copy()\n",
    "# 3 -- what for the control group?\n",
    "df_procure['yyyymm'] = df_procure['reporting_period1'] + df_procure['reporting_period2']\n",
    "df_temp2 = df_procure.groupby('yyyymm').sales_amount.mean().reset_index()\n",
    "df_temp2 = df_temp2[df_temp2['yyyymm'] > '2018']\n",
    "df_temp2 = df_temp2[df_temp2['yyyymm'] < '2023']\n",
    "df_temp2.sort_values('yyyymm', inplace=True)\n",
    "\n",
    "# Plotting along the same line\n",
    "plt.figure()\n",
    "plt.title('Judicial censorship and government procurement')\n",
    "plt.bar(df_temp2.yyyymm,df_temp2['sales_amount'], color='maroon')\n",
    "plt.axvline(x='202106', color='grey', ls=':')\n",
    "plt.xticks(['201801', '201901', '202001', '202101', '202201'], [2018, 2019, 2020, 2021, 2022])\n",
    "plt.show()"
   ]
  },
  {
   "cell_type": "code",
   "execution_count": 7,
   "metadata": {},
   "outputs": [],
   "source": [
    "# Analyis: firm-quarter level dataset with (1) outcome variable: # of govt procurement; (2) outcome variable: amount of procurement sales; (3) treatment indicator\n",
    "df_procure = df_procure_copy.copy()"
   ]
  },
  {
   "cell_type": "code",
   "execution_count": 35,
   "metadata": {},
   "outputs": [],
   "source": [
    "def month_to_quater(month):\n",
    "    if month == '01' or month == '02' or month == '03':\n",
    "        return 'Q1'\n",
    "    if month == '04' or month == '05' or month == '06':\n",
    "        return 'Q2'\n",
    "    if month == '07' or month == '08' or month == '09':\n",
    "        return 'Q3'\n",
    "    if month == '10' or month == '11' or month == '12':\n",
    "        return 'Q4'\n",
    "df_procure['quarter'] = df_procure['reporting_period1'] + df_procure['reporting_period2'].apply(month_to_quater)"
   ]
  },
  {
   "cell_type": "code",
   "execution_count": 9,
   "metadata": {},
   "outputs": [
    {
     "data": {
      "text/plain": [
       "Index(['id', 'company_id', 'unified_code_x', 'state', 'create_time',\n",
       "       'update_time', 'customer', 'sales_share', 'sales_amount',\n",
       "       'reporting_period', 'data_sources', 'relationship', 'unified_code_y',\n",
       "       'ent_name', 'reg_capital', 'industry', 'start_date', 'district',\n",
       "       'district_code', '_merge', 'reporting_period1', 'reporting_period2',\n",
       "       'reporting_period3', 'quarter'],\n",
       "      dtype='object')"
      ]
     },
     "execution_count": 9,
     "metadata": {},
     "output_type": "execute_result"
    }
   ],
   "source": [
    "df_procure.columns"
   ]
  },
  {
   "cell_type": "code",
   "execution_count": 36,
   "metadata": {},
   "outputs": [],
   "source": [
    "df_procure = df_procure[df_procure.reporting_period1 >= '2018']\n",
    "df_procure['govt'] = df_procure.customer.apply(lambda x: isinstance(x, str) and (x.find('法院')!=-1 or x.find('检察院')!=-1 or x.find('政府')!=-1 or x.find('局')!=-1 or x.find('办公室')!=-1))\n",
    "df_procure['company'] = df_procure.customer.apply(lambda x: isinstance(x, str) and x.find('公司')!=-1)\n",
    "df_procure['state'] = 1\n",
    "df_procure = df_procure[~df_procure.industry.isna()]\n",
    "df_procure['district_code'] = df_procure['district_code'].apply(str)\n",
    "df_procure_panel = df_procure.groupby(['ent_name', 'quarter']).agg(\n",
    "    sales_amount = ('sales_amount', 'sum'),\n",
    "    num = ('state', 'sum'),\n",
    "    govt = ('govt', 'sum'),\n",
    "    company = ('company', 'sum'),\n",
    "    industry = ('industry', 'first'),\n",
    "    district_code = ('district_code', 'max')\n",
    ")\n",
    "df_procure_panel = df_procure_panel.reset_index().sort_values(['ent_name', 'quarter'])"
   ]
  },
  {
   "cell_type": "code",
   "execution_count": 37,
   "metadata": {},
   "outputs": [
    {
     "name": "stderr",
     "output_type": "stream",
     "text": [
      "/opt/anaconda3/lib/python3.7/site-packages/IPython/core/interactiveshell.py:3326: DtypeWarning: Columns (9) have mixed types.Specify dtype option on import or set low_memory=False.\n",
      "  exec(code_obj, self.user_global_ns, self.user_ns)\n"
     ]
    }
   ],
   "source": [
    "# Transform it into a balanced panel\n",
    "df_procure_panel.set_index('ent_name', inplace=True)\n",
    "df_balanced = df_procure_panel.set_index('quarter', append=True).unstack().stack(dropna=False).reset_index()\n",
    "df_balanced[['sales_amount', 'num', 'govt', 'company']] = df_balanced[['sales_amount', 'num', 'govt', 'company']].fillna(0)\n",
    "df_balanced['post'] = df_balanced.quarter.apply(lambda x: x>'2021Q1')\n",
    "df_temp = df_censor[['原告loc', '被告loc', '文书ID']]\n",
    "df_temp = df_temp.explode('被告loc')\n",
    "df_temp['被告'] = df_temp['被告loc'].apply(lambda x: x[0] if isinstance(x, list) else np.nan)\n",
    "df_balanced['treat'] = df_balanced['ent_name'].isin(df_temp.被告.unique())\n",
    "\n",
    "# The reasonable comparison group is not the full sample, but the firms that goes onto a litigation, but not receiving the favor of censorship.\n",
    "df_uncensor = pd.read_csv('/Users/kevin/Dropbox/legal_censorship/Data/master_uncensor.csv')\n",
    "df_uncensor.原告loc = df_uncensor.原告loc.apply(literal_eval)\n",
    "df_uncensor.被告loc = df_uncensor.被告loc.apply(literal_eval)\n",
    "\n",
    "df_temp2 = df_uncensor[['原告loc', '被告loc']]\n",
    "df_temp2 = df_temp2.explode('被告loc')\n",
    "df_temp2['被告'] = df_temp2['被告loc'].apply(lambda x: x[0] if isinstance(x, list) else np.nan)\n",
    "df_balanced = df_balanced[(df_balanced.ent_name.isin(df_temp2.被告.unique())) | df_balanced['ent_name'].isin(df_temp.被告.unique())]\n",
    "\n",
    "df_balanced.to_csv(wd+'Data/procurement_firm_panel.csv', index=False)"
   ]
  },
  {
   "cell_type": "code",
   "execution_count": null,
   "metadata": {},
   "outputs": [],
   "source": [
    "# What's missing here: firms that do not receive any government procurement in the past 10 years.\n"
   ]
  },
  {
   "cell_type": "code",
   "execution_count": null,
   "metadata": {},
   "outputs": [],
   "source": []
  }
 ],
 "metadata": {
  "kernelspec": {
   "display_name": "base",
   "language": "python",
   "name": "python3"
  },
  "language_info": {
   "codemirror_mode": {
    "name": "ipython",
    "version": 3
   },
   "file_extension": ".py",
   "mimetype": "text/x-python",
   "name": "python",
   "nbconvert_exporter": "python",
   "pygments_lexer": "ipython3",
   "version": "3.7.4"
  },
  "vscode": {
   "interpreter": {
    "hash": "40d3a090f54c6569ab1632332b64b2c03c39dcf918b08424e98f38b5ae0af88f"
   }
  }
 },
 "nbformat": 4,
 "nbformat_minor": 1
}
