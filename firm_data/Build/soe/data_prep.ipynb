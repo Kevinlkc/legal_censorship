{
 "cells": [
  {
   "cell_type": "code",
   "execution_count": 1,
   "metadata": {},
   "outputs": [],
   "source": [
    "import pandas as pd\n",
    "import re\n",
    "import os\n",
    "import numpy as np\n",
    "import matplotlib.pyplot as plt\n",
    "from ast import literal_eval\n",
    "import geopandas as gpd"
   ]
  },
  {
   "cell_type": "code",
   "execution_count": 2,
   "metadata": {},
   "outputs": [],
   "source": [
    "wd = '/Users/kevin/Dropbox/legal_censorship/'"
   ]
  },
  {
   "cell_type": "code",
   "execution_count": 3,
   "metadata": {},
   "outputs": [
    {
     "name": "stderr",
     "output_type": "stream",
     "text": [
      "/opt/anaconda3/lib/python3.7/site-packages/IPython/core/interactiveshell.py:3326: DtypeWarning: Columns (9) have mixed types.Specify dtype option on import or set low_memory=False.\n",
      "  exec(code_obj, self.user_global_ns, self.user_ns)\n"
     ]
    }
   ],
   "source": [
    "df_uncensor = pd.read_csv(wd+'Data/master_uncensor.csv')\n",
    "\n",
    "# Research question: are censored documents differentially ...\n",
    "    # (0) dealing with firms?\n",
    "    # (1) dealing with cases where local litigants are involved?\n",
    "    # (2) dealing with cases where local firm defendants are winning in a cross-regional lawsuit?\n",
    "    # (3) coming from higher-level courts?\n",
    "\n",
    "# Let's first focus on the random sample (as our control group), and for now we're focusing on the lawsuits where we can properly define both parties of the litigants."
   ]
  },
  {
   "cell_type": "code",
   "execution_count": 4,
   "metadata": {},
   "outputs": [
    {
     "name": "stdout",
     "output_type": "stream",
     "text": [
      "0.06296655964530254\n"
     ]
    }
   ],
   "source": [
    "# 6.7% of traffic accidents!\n",
    "df_uncensor['traffic_accident'] = df_uncensor['案件名称'].apply(lambda x: x.find('交通事故')!=-1)\n",
    "print(df_uncensor.traffic_accident.mean())\n",
    "df_uncensor = df_uncensor[df_uncensor.traffic_accident == False]"
   ]
  },
  {
   "cell_type": "code",
   "execution_count": 5,
   "metadata": {},
   "outputs": [
    {
     "data": {
      "text/plain": [
       "Index(['docid', '案件名称', '案号', '审判程序', '裁判日期', '发布日期', '法院名称', '案件类型', '公开类型',\n",
       "       '文书类型', '案由', '原告loc', '被告loc', 'type_原被告', '上诉', '原告pay', '被告pay',\n",
       "       '类型_pay', '案件受理费', '受理费合计', '受理费减半', '受理费免收', '起诉', '申请', '立案', '受理',\n",
       "       '撤诉', '开庭', '原告firm', '被告firm', 'court_code', '原告loc_mode',\n",
       "       '被告loc_mode', 'county_level', 'plaintiff_win', 'traffic_accident'],\n",
       "      dtype='object')"
      ]
     },
     "execution_count": 5,
     "metadata": {},
     "output_type": "execute_result"
    }
   ],
   "source": [
    "df_uncensor.columns"
   ]
  },
  {
   "cell_type": "code",
   "execution_count": 6,
   "metadata": {},
   "outputs": [],
   "source": [
    "df_uncensor = df_uncensor[df_uncensor.type_原被告 == '正常']\n",
    "# Explode, merge with SOE data, and collapse to case level\n",
    "df_uncensor['原告loc'] = df_uncensor['原告loc'].apply(literal_eval)\n",
    "df_uncensor['被告loc'] = df_uncensor['被告loc'].apply(literal_eval)"
   ]
  },
  {
   "cell_type": "code",
   "execution_count": 7,
   "metadata": {},
   "outputs": [],
   "source": [
    "df_uncensor['原告firm'] = df_uncensor['原告loc'].apply(lambda x: [y[0].find('公司')!= -1 for y in x])\n",
    "df_uncensor['被告firm'] = df_uncensor['被告loc'].apply(lambda x: [y[0].find('公司')!= -1 for y in x])\n",
    "df_uncensor['原告firm'] = df_uncensor['原告firm'].apply(any)\n",
    "df_uncensor['被告firm'] = df_uncensor['被告firm'].apply(any)"
   ]
  },
  {
   "cell_type": "code",
   "execution_count": 8,
   "metadata": {},
   "outputs": [
    {
     "data": {
      "text/plain": [
       "0.10637608186328808"
      ]
     },
     "execution_count": 8,
     "metadata": {},
     "output_type": "execute_result"
    }
   ],
   "source": [
    "# Only 10% are firm-to-firm lawsuits\n",
    "df_uncensor[(df_uncensor.原告firm == True) & (df_uncensor.被告firm == True)].shape[0] / df_uncensor.shape[0]"
   ]
  },
  {
   "cell_type": "code",
   "execution_count": 9,
   "metadata": {},
   "outputs": [],
   "source": [
    "# First, let's take a few random samples to see what's the nature of firm-to-firm cases, individual-to-firm cases, and firm-to-individual cases\n",
    "# 1.1 firm-to-firm lawsuits are most directly reasonable\n",
    "# df_uncensor[(df_uncensor.原告firm == True) & (df_uncensor.被告firm == True)].案件名称.sample(10)\n",
    "# 1.2 individual-to-firm lawsuits are most directly reasonable\n",
    "# df_uncensor[(df_uncensor.原告firm == False) & (df_uncensor.被告firm == True)].案件名称.sample(10)"
   ]
  },
  {
   "cell_type": "code",
   "execution_count": 10,
   "metadata": {},
   "outputs": [
    {
     "name": "stderr",
     "output_type": "stream",
     "text": [
      "/opt/anaconda3/lib/python3.7/site-packages/pandas/io/stata.py:1457: UnicodeWarning: \n",
      "One or more strings in the dta file could not be decoded using utf-8, and\n",
      "so the fallback encoding of latin-1 is being used.  This can happen when a file\n",
      "has been incorrectly encoded by Stata or some other software. You should verify\n",
      "the string values returned are correct.\n",
      "  warnings.warn(msg, UnicodeWarning)\n"
     ]
    }
   ],
   "source": [
    "df_uncensor = df_uncensor[(df_uncensor.被告firm == True)]\n",
    "df_soe = pd.read_stata(wd+'Data/company_data/SOE.dta')\n",
    "def remove_alias(name):\n",
    "    # some names are of the form XXX(曾用名:XXX), for the first iteration we drop the alias in the parathesis\n",
    "    reObj = re.match(r'(.*)\\((.*)\\)', name)\n",
    "    if reObj:\n",
    "        return reObj.group(1)\n",
    "    return name\n",
    "df_soe['ent_name'] = df_soe['ent_name'].apply(remove_alias)\n",
    "df_soe.drop_duplicates('ent_name', inplace=True)"
   ]
  },
  {
   "cell_type": "code",
   "execution_count": 11,
   "metadata": {},
   "outputs": [],
   "source": [
    "df_uncensor.drop_duplicates('docid', inplace=True)\n",
    "df_temp = df_uncensor[['docid', '原告loc']].explode('原告loc')\n",
    "df_temp['ent_name'] = df_temp['原告loc'].apply(lambda x: x[0] if str(x)!='nan' else np.nan)\n",
    "df_temp = pd.merge(df_temp, df_soe, on='ent_name', how='left', validate='m:1')\n",
    "df_temp = df_temp[['docid', 'soe', 'soe_connected', 'central_soe', 'central_soe_connected']].groupby('docid').agg(max).reset_index()\n",
    "df_temp.columns = ['docid', 'soe_plaintiff', 'soe_connected_plaintiff', 'central_soe_plaintiff', 'central_soe_connected_plaintiff']\n",
    "df_temp.fillna(0, inplace=True)\n",
    "df_uncensor = pd.merge(df_uncensor, df_temp, on='docid', how='left', validate='1:1')"
   ]
  },
  {
   "cell_type": "code",
   "execution_count": 12,
   "metadata": {},
   "outputs": [],
   "source": [
    "df_temp = df_uncensor[['docid', '被告loc']].explode('被告loc')\n",
    "df_temp['ent_name'] = df_temp['被告loc'].apply(lambda x: x[0] if str(x)!='nan' else np.nan)\n",
    "df_temp = pd.merge(df_temp, df_soe, on='ent_name', how='left', validate='m:1')\n",
    "df_temp = df_temp[['docid', 'soe', 'soe_connected', 'central_soe', 'central_soe_connected']].groupby('docid').agg(max).reset_index()\n",
    "df_temp.columns = ['docid', 'soe_defendant', 'soe_connected_defendant', 'central_soe_defendant', 'central_soe_connected_defendant']\n",
    "df_temp.fillna(0, inplace=True)\n",
    "df_uncensor = pd.merge(df_uncensor, df_temp, on='docid', how='left', validate='1:1')"
   ]
  },
  {
   "cell_type": "code",
   "execution_count": 13,
   "metadata": {},
   "outputs": [
    {
     "name": "stdout",
     "output_type": "stream",
     "text": [
      "soe_plaintiff 0.021334758028388023\n",
      "soe_connected_plaintiff 0.01391791645437479\n",
      "central_soe_plaintiff 9.319201490143314e-05\n",
      "central_soe_connected_plaintiff 0.00142770167440176\n",
      "soe_defendant 0.03194994851946831\n",
      "soe_connected_defendant 0.0343928225338459\n",
      "central_soe_defendant 8.946433081291616e-05\n",
      "central_soe_connected_defendant 0.006502317264676094\n"
     ]
    }
   ],
   "source": [
    "# Summary statatistics for the uncensored part\n",
    "for col in ['soe_plaintiff', 'soe_connected_plaintiff', 'central_soe_plaintiff', 'central_soe_connected_plaintiff', 'soe_defendant', 'soe_connected_defendant', 'central_soe_defendant', 'central_soe_connected_defendant']:\n",
    "    print(col, df_uncensor[col].mean())"
   ]
  },
  {
   "cell_type": "code",
   "execution_count": 14,
   "metadata": {},
   "outputs": [],
   "source": [
    "# We observe that actually quite a lot of the so-called SOE related cases are not firm-related cases, but instead traffice accidents that loops in an insurance company\n",
    "# We should exclude them"
   ]
  },
  {
   "cell_type": "code",
   "execution_count": 3,
   "metadata": {},
   "outputs": [
    {
     "name": "stderr",
     "output_type": "stream",
     "text": [
      "/opt/anaconda3/lib/python3.7/site-packages/IPython/core/interactiveshell.py:3326: DtypeWarning: Columns (8) have mixed types.Specify dtype option on import or set low_memory=False.\n",
      "  exec(code_obj, self.user_global_ns, self.user_ns)\n"
     ]
    },
    {
     "name": "stdout",
     "output_type": "stream",
     "text": [
      "0.06502694846337857\n"
     ]
    }
   ],
   "source": [
    "# Articles being censored -- takes 9 minutes to load\n",
    "df_censor = pd.read_csv(wd+'Data/master.csv')\n",
    "del df_censor['全文']\n",
    "\n",
    "# 6.3% of traffice accidents!\n",
    "df_censor['traffic_accident'] = df_censor['案件名称'].apply(lambda x: x.find('交通事故')!=-1)\n",
    "print(df_censor.traffic_accident.mean())\n",
    "df_censor = df_censor[df_censor.traffic_accident == False]"
   ]
  },
  {
   "cell_type": "code",
   "execution_count": 5,
   "metadata": {},
   "outputs": [
    {
     "data": {
      "text/plain": [
       "(2701168, 41)"
      ]
     },
     "execution_count": 5,
     "metadata": {},
     "output_type": "execute_result"
    }
   ],
   "source": [
    "df_censor.shape"
   ]
  },
  {
   "cell_type": "code",
   "execution_count": 14,
   "metadata": {},
   "outputs": [
    {
     "data": {
      "text/html": [
       "<div>\n",
       "<style scoped>\n",
       "    .dataframe tbody tr th:only-of-type {\n",
       "        vertical-align: middle;\n",
       "    }\n",
       "\n",
       "    .dataframe tbody tr th {\n",
       "        vertical-align: top;\n",
       "    }\n",
       "\n",
       "    .dataframe thead th {\n",
       "        text-align: right;\n",
       "    }\n",
       "</style>\n",
       "<table border=\"1\" class=\"dataframe\">\n",
       "  <thead>\n",
       "    <tr style=\"text-align: right;\">\n",
       "      <th></th>\n",
       "      <th>文书ID</th>\n",
       "      <th>案件名称</th>\n",
       "      <th>案号</th>\n",
       "      <th>审判程序</th>\n",
       "      <th>裁判日期</th>\n",
       "      <th>发布日期</th>\n",
       "      <th>法院名称</th>\n",
       "      <th>案件类型</th>\n",
       "      <th>公开类型</th>\n",
       "      <th>文书类型</th>\n",
       "      <th>...</th>\n",
       "      <th>受理</th>\n",
       "      <th>撤诉</th>\n",
       "      <th>开庭</th>\n",
       "      <th>court_date</th>\n",
       "      <th>plantifflose</th>\n",
       "      <th>winner</th>\n",
       "      <th>loser</th>\n",
       "      <th>local_winner</th>\n",
       "      <th>local_loser</th>\n",
       "      <th>traffic_accident</th>\n",
       "    </tr>\n",
       "  </thead>\n",
       "  <tbody>\n",
       "    <tr>\n",
       "      <th>104600</th>\n",
       "      <td>60c5d101c74543158fe4aa0e00c00795</td>\n",
       "      <td>何乃林与颜以旭、颜强强、颜廷玲、孙连海、盐城市龙鼎建筑装饰工程有限公司、盐城亚海商贸有限公司...</td>\n",
       "      <td>（2018）苏0925民初6068号</td>\n",
       "      <td>一审</td>\n",
       "      <td>NaN</td>\n",
       "      <td>2019-03-12</td>\n",
       "      <td>建湖县人民法院</td>\n",
       "      <td>2</td>\n",
       "      <td>NaN</td>\n",
       "      <td>NaN</td>\n",
       "      <td>...</td>\n",
       "      <td>NaN</td>\n",
       "      <td>NaN</td>\n",
       "      <td>NaN</td>\n",
       "      <td>NaN</td>\n",
       "      <td>True</td>\n",
       "      <td>[]</td>\n",
       "      <td>[]</td>\n",
       "      <td>NaN</td>\n",
       "      <td>NaN</td>\n",
       "      <td>False</td>\n",
       "    </tr>\n",
       "  </tbody>\n",
       "</table>\n",
       "<p>1 rows × 41 columns</p>\n",
       "</div>"
      ],
      "text/plain": [
       "                                    文书ID  \\\n",
       "104600  60c5d101c74543158fe4aa0e00c00795   \n",
       "\n",
       "                                                     案件名称                  案号  \\\n",
       "104600  何乃林与颜以旭、颜强强、颜廷玲、孙连海、盐城市龙鼎建筑装饰工程有限公司、盐城亚海商贸有限公司...  （2018）苏0925民初6068号   \n",
       "\n",
       "       审判程序  裁判日期        发布日期     法院名称 案件类型  公开类型  文书类型  ...   受理   撤诉   开庭  \\\n",
       "104600   一审   NaN  2019-03-12  建湖县人民法院    2   NaN   NaN  ...  NaN  NaN  NaN   \n",
       "\n",
       "       court_date plantifflose  winner  loser local_winner local_loser  \\\n",
       "104600        NaN         True      []     []          NaN         NaN   \n",
       "\n",
       "       traffic_accident  \n",
       "104600            False  \n",
       "\n",
       "[1 rows x 41 columns]"
      ]
     },
     "execution_count": 14,
     "metadata": {},
     "output_type": "execute_result"
    }
   ],
   "source": [
    "df_censor[df_censor.案号 == \"（2018）苏0925民初6068号\"]"
   ]
  },
  {
   "cell_type": "code",
   "execution_count": 16,
   "metadata": {},
   "outputs": [],
   "source": [
    "df_censor = df_censor[df_censor.type_原被告 == '正常']\n",
    "# Explode, merge with SOE data, and collapse to case level\n",
    "df_censor['原告loc'] = df_censor['原告loc'].apply(literal_eval)\n",
    "df_censor['被告loc'] = df_censor['被告loc'].apply(literal_eval)\n",
    "\n",
    "df_censor['原告firm'] = df_censor['原告loc'].apply(lambda x: [y[0].find('公司')!= -1 for y in x])\n",
    "df_censor['被告firm'] = df_censor['被告loc'].apply(lambda x: [y[0].find('公司')!= -1 for y in x])\n",
    "df_censor['原告firm'] = df_censor['原告firm'].apply(any)\n",
    "df_censor['被告firm'] = df_censor['被告firm'].apply(any)\n",
    "df_censor = df_censor[(df_censor.被告firm == True)]"
   ]
  },
  {
   "cell_type": "code",
   "execution_count": 17,
   "metadata": {},
   "outputs": [],
   "source": [
    "df_censor.drop_duplicates('docid', inplace=True)\n",
    "df_temp = df_censor[['docid', '原告loc']].explode('原告loc')\n",
    "df_temp['ent_name'] = df_temp['原告loc'].apply(lambda x: x[0] if str(x)!='nan' else np.nan)\n",
    "df_temp = pd.merge(df_temp, df_soe, on='ent_name', how='left', validate='m:1')\n",
    "df_temp = df_temp[['docid', 'soe', 'soe_connected', 'central_soe', 'central_soe_connected']].groupby('docid').agg(max).reset_index()\n",
    "df_temp.columns = ['docid', 'soe_plaintiff', 'soe_connected_plaintiff', 'central_soe_plaintiff', 'central_soe_connected_plaintiff']\n",
    "df_temp.fillna(0, inplace=True)\n",
    "df_censor = pd.merge(df_censor, df_temp, on='docid', how='left', validate='1:1')\n",
    "\n",
    "df_temp = df_censor[['docid', '被告loc']].explode('被告loc')\n",
    "df_temp['ent_name'] = df_temp['被告loc'].apply(lambda x: x[0] if str(x)!='nan' else np.nan)\n",
    "df_temp = pd.merge(df_temp, df_soe, on='ent_name', how='left', validate='m:1')\n",
    "df_temp = df_temp[['docid', 'soe', 'soe_connected', 'central_soe', 'central_soe_connected']].groupby('docid').agg(max).reset_index()\n",
    "df_temp.columns = ['docid', 'soe_defendant', 'soe_connected_defendant', 'central_soe_defendant', 'central_soe_connected_defendant']\n",
    "df_temp.fillna(0, inplace=True)\n",
    "df_censor = pd.merge(df_censor, df_temp, on='docid', how='left', validate='1:1')"
   ]
  },
  {
   "cell_type": "code",
   "execution_count": 18,
   "metadata": {},
   "outputs": [
    {
     "name": "stdout",
     "output_type": "stream",
     "text": [
      "soe_plaintiff 0.02126302756369114\n",
      "soe_connected_plaintiff 0.016539691016077995\n",
      "central_soe_plaintiff 0.00021790157188661397\n",
      "central_soe_connected_plaintiff 0.00135387375485152\n",
      "soe_defendant 0.0250378530472517\n",
      "soe_connected_defendant 0.030986886471509933\n",
      "central_soe_defendant 7.530421862611547e-05\n",
      "central_soe_connected_defendant 0.005098255816847086\n"
     ]
    }
   ],
   "source": [
    "# Summary statatistics for the censored part\n",
    "for col in ['soe_plaintiff', 'soe_connected_plaintiff', 'central_soe_plaintiff', 'central_soe_connected_plaintiff', 'soe_defendant', 'soe_connected_defendant', 'central_soe_defendant', 'central_soe_connected_defendant']:\n",
    "    print(col, df_censor[col].mean())"
   ]
  },
  {
   "cell_type": "code",
   "execution_count": 19,
   "metadata": {},
   "outputs": [
    {
     "name": "stdout",
     "output_type": "stream",
     "text": [
      "0.8028752365175116\n",
      "0.6891575387750086\n",
      "0.6498037322847358\n",
      "0.5610744514469224\n"
     ]
    }
   ],
   "source": [
    "# Who wins?\n",
    "df_censor['plaintiff_win'] = df_censor['被告pay'] / (df_censor['原告pay'] + df_censor['被告pay'])\n",
    "df_uncensor['plaintiff_win'] = df_uncensor['被告pay'] / (df_uncensor['原告pay'] + df_uncensor['被告pay'])\n",
    "# Who wins more?\n",
    "# For SOE plaintiff, they win more in censored cases\n",
    "print(df_censor[(df_censor.soe_connected_plaintiff == True)].plaintiff_win.mean())\n",
    "print(df_uncensor[(df_uncensor.soe_connected_plaintiff == True)].plaintiff_win.mean())\n",
    "# For SOE defendent, they loss more in censored cases\n",
    "print(df_censor[(df_censor.soe_defendant == True) | (df_censor.soe_connected_defendant == True)].plaintiff_win.mean()) # Defendant win rate: 35%\n",
    "print(df_uncensor[(df_uncensor.soe_defendant == True) | (df_uncensor.soe_connected_defendant == True)].plaintiff_win.mean()) # Defendant win rate: 44%"
   ]
  },
  {
   "cell_type": "code",
   "execution_count": 20,
   "metadata": {},
   "outputs": [
    {
     "name": "stdout",
     "output_type": "stream",
     "text": [
      "0.702190555013993\n",
      "0.595670421437652\n"
     ]
    }
   ],
   "source": [
    "print(df_censor[(df_censor.soe_defendant == True) | (df_censor.soe_connected_defendant == True) | (df_censor.soe_plaintiff == False) | (df_censor.soe_connected_plaintiff == False)].plaintiff_win.mean()) # Defendant win rate: 35%\n",
    "print(df_uncensor[(df_uncensor.soe_defendant == True) | (df_uncensor.soe_connected_defendant == True) | (df_uncensor.soe_plaintiff == False) | (df_uncensor.soe_connected_plaintiff == False)].plaintiff_win.mean()) # Defendant win rate: 44%"
   ]
  },
  {
   "cell_type": "code",
   "execution_count": 24,
   "metadata": {},
   "outputs": [
    {
     "data": {
      "text/plain": [
       "67142     [[苏州可瑞斯特纺织品有限公司, 江苏省苏州市吴中区甪直镇凌港路66-8号, 320506]...\n",
       "219474                  [[赤峰博爱皮革箱包有限公司, 内蒙古自治区赤峰市, 150400]]\n",
       "385302    [[大邑显明西岭水泥有限公司, 四川省成都市大邑县晋原镇光华村（工业集中发展区）, 5101...\n",
       "170395    [[魏力, 北京市海淀区, 110108], [北京葛洲坝龙湖置业有限公司, 北京市丰台区万...\n",
       "349622               [[日照市岚山泉祥房地产开发有限责任公司, 日照市岚山区, 371103]]\n",
       "49783     [[中国石油管道局工程有限公司（原中国石油天然气管道工程有限公司）, 河北省廊坊市广阳区广阳...\n",
       "61829                      [[河南九酷网络科技有限公司, 注册地河南省, 410000]]\n",
       "160159    [[泸州市花园房地产开发有限公司, 泸州市龙马大道二段30号, 510500], [泸州市花...\n",
       "500154             [[亳州市丽都商贸有限责任公司, 亳州市谯城区新华路180号, 341602]]\n",
       "250327                    [[乐清市保安服务公司, 乐清市城南街道悬浦村, 330382]]\n",
       "Name: 被告loc, dtype: object"
      ]
     },
     "execution_count": 24,
     "metadata": {},
     "output_type": "execute_result"
    }
   ],
   "source": [
    "df_censor[(df_censor.soe_defendant == False) | (df_censor.soe_connected_defendant == False)].被告loc.sample(10)"
   ]
  },
  {
   "cell_type": "code",
   "execution_count": null,
   "metadata": {},
   "outputs": [
    {
     "data": {
      "text/plain": [
       "441343      （2014）德城民初字第3298号\n",
       "241749     （2017）津0104民初5274号\n",
       "569153     （2019）豫0802民初2477号\n",
       "345645      （2018）甘0821民初712号\n",
       "406762    （2017）粤0303民初19203号\n",
       "946       （2018）粤1971民初14858号\n",
       "182432      （2015）启民初字第00259号\n",
       "257176       （2016）冀06民辖终283号\n",
       "370299        （2016）川03民辖终83号\n",
       "597843     （2015）鞍西民二初字第1453号\n",
       "Name: 案号, dtype: object"
      ]
     },
     "execution_count": 33,
     "metadata": {},
     "output_type": "execute_result"
    }
   ],
   "source": [
    "df_censor.loc[67142]"
   ]
  },
  {
   "cell_type": "code",
   "execution_count": 26,
   "metadata": {},
   "outputs": [
    {
     "data": {
      "text/html": [
       "<div>\n",
       "<style scoped>\n",
       "    .dataframe tbody tr th:only-of-type {\n",
       "        vertical-align: middle;\n",
       "    }\n",
       "\n",
       "    .dataframe tbody tr th {\n",
       "        vertical-align: top;\n",
       "    }\n",
       "\n",
       "    .dataframe thead th {\n",
       "        text-align: right;\n",
       "    }\n",
       "</style>\n",
       "<table border=\"1\" class=\"dataframe\">\n",
       "  <thead>\n",
       "    <tr style=\"text-align: right;\">\n",
       "      <th></th>\n",
       "      <th>ent_name</th>\n",
       "      <th>company_id</th>\n",
       "      <th>soe</th>\n",
       "      <th>soe_connected</th>\n",
       "      <th>central_soe</th>\n",
       "      <th>central_soe_connected</th>\n",
       "    </tr>\n",
       "  </thead>\n",
       "  <tbody>\n",
       "    <tr>\n",
       "      <th>858294</th>\n",
       "      <td>泰安世纪龙湖置业有限公司</td>\n",
       "      <td>71262658.0</td>\n",
       "      <td>NaN</td>\n",
       "      <td>1.0</td>\n",
       "      <td>NaN</td>\n",
       "      <td>NaN</td>\n",
       "    </tr>\n",
       "    <tr>\n",
       "      <th>961910</th>\n",
       "      <td>濮阳市万瑞龙湖置业有限公司</td>\n",
       "      <td>65714658.0</td>\n",
       "      <td>NaN</td>\n",
       "      <td>1.0</td>\n",
       "      <td>NaN</td>\n",
       "      <td>NaN</td>\n",
       "    </tr>\n",
       "    <tr>\n",
       "      <th>984333</th>\n",
       "      <td>盐城龙湖置业有限公司</td>\n",
       "      <td>65531039.0</td>\n",
       "      <td>NaN</td>\n",
       "      <td>1.0</td>\n",
       "      <td>NaN</td>\n",
       "      <td>NaN</td>\n",
       "    </tr>\n",
       "  </tbody>\n",
       "</table>\n",
       "</div>"
      ],
      "text/plain": [
       "             ent_name  company_id  soe  soe_connected  central_soe  \\\n",
       "858294   泰安世纪龙湖置业有限公司  71262658.0  NaN            1.0          NaN   \n",
       "961910  濮阳市万瑞龙湖置业有限公司  65714658.0  NaN            1.0          NaN   \n",
       "984333     盐城龙湖置业有限公司  65531039.0  NaN            1.0          NaN   \n",
       "\n",
       "        central_soe_connected  \n",
       "858294                    NaN  \n",
       "961910                    NaN  \n",
       "984333                    NaN  "
      ]
     },
     "execution_count": 26,
     "metadata": {},
     "output_type": "execute_result"
    }
   ],
   "source": [
    "df_soe[df_soe.ent_name.apply(lambda x: x.find('龙湖置业')!=-1)]"
   ]
  },
  {
   "cell_type": "code",
   "execution_count": 23,
   "metadata": {},
   "outputs": [
    {
     "data": {
      "text/html": [
       "<div>\n",
       "<style scoped>\n",
       "    .dataframe tbody tr th:only-of-type {\n",
       "        vertical-align: middle;\n",
       "    }\n",
       "\n",
       "    .dataframe tbody tr th {\n",
       "        vertical-align: top;\n",
       "    }\n",
       "\n",
       "    .dataframe thead th {\n",
       "        text-align: right;\n",
       "    }\n",
       "</style>\n",
       "<table border=\"1\" class=\"dataframe\">\n",
       "  <thead>\n",
       "    <tr style=\"text-align: right;\">\n",
       "      <th></th>\n",
       "      <th>ent_name</th>\n",
       "      <th>company_id</th>\n",
       "      <th>soe</th>\n",
       "      <th>soe_connected</th>\n",
       "      <th>central_soe</th>\n",
       "      <th>central_soe_connected</th>\n",
       "    </tr>\n",
       "  </thead>\n",
       "  <tbody>\n",
       "    <tr>\n",
       "      <th>771175</th>\n",
       "      <td>楚雄长通汽车销售服务有限公司</td>\n",
       "      <td>14529286.0</td>\n",
       "      <td>NaN</td>\n",
       "      <td>1.0</td>\n",
       "      <td>NaN</td>\n",
       "      <td>1.0</td>\n",
       "    </tr>\n",
       "    <tr>\n",
       "      <th>1127305</th>\n",
       "      <td>重庆市永川区长通汽车维修服务中心配件销售部</td>\n",
       "      <td>NaN</td>\n",
       "      <td>1.0</td>\n",
       "      <td>NaN</td>\n",
       "      <td>NaN</td>\n",
       "      <td>NaN</td>\n",
       "    </tr>\n",
       "    <tr>\n",
       "      <th>1133719</th>\n",
       "      <td>重庆广达长通汽车销售服务中心</td>\n",
       "      <td>NaN</td>\n",
       "      <td>1.0</td>\n",
       "      <td>NaN</td>\n",
       "      <td>NaN</td>\n",
       "      <td>NaN</td>\n",
       "    </tr>\n",
       "  </tbody>\n",
       "</table>\n",
       "</div>"
      ],
      "text/plain": [
       "                      ent_name  company_id  soe  soe_connected  central_soe  \\\n",
       "771175          楚雄长通汽车销售服务有限公司  14529286.0  NaN            1.0          NaN   \n",
       "1127305  重庆市永川区长通汽车维修服务中心配件销售部         NaN  1.0            NaN          NaN   \n",
       "1133719         重庆广达长通汽车销售服务中心         NaN  1.0            NaN          NaN   \n",
       "\n",
       "         central_soe_connected  \n",
       "771175                     1.0  \n",
       "1127305                    NaN  \n",
       "1133719                    NaN  "
      ]
     },
     "execution_count": 23,
     "metadata": {},
     "output_type": "execute_result"
    }
   ],
   "source": [
    "df_soe[df_soe.ent_name.apply(lambda x: x.find('长通汽车')!=-1)]"
   ]
  },
  {
   "cell_type": "code",
   "execution_count": 3,
   "metadata": {},
   "outputs": [],
   "source": [
    "df_temp = pd.read_excel(wd+'Data/civil_docx2019_only_cleaning/extracted_civil_docx2019_only_1.xlsx')"
   ]
  },
  {
   "cell_type": "code",
   "execution_count": 4,
   "metadata": {},
   "outputs": [
    {
     "data": {
      "text/plain": [
       "332700     （2017）浙0402民初1832号\n",
       "391598       （2019）川0180司惩21号\n",
       "633786       （2018）辽0502执异19号\n",
       "985251     （2016）粤1971民初8728号\n",
       "97409      （2017）冀1003民初5825号\n",
       "547723     （2019）豫0102财保1105号\n",
       "82630        （2015）宁民保字第1252号\n",
       "656558        （2014）德执行字第176号\n",
       "445892    （2018）京0113民初16564号\n",
       "379668     （2018）京0105民初1403号\n",
       "Name: 案号, dtype: object"
      ]
     },
     "execution_count": 4,
     "metadata": {},
     "output_type": "execute_result"
    }
   ],
   "source": [
    "df_temp.案号.sample(10)"
   ]
  },
  {
   "cell_type": "code",
   "execution_count": null,
   "metadata": {},
   "outputs": [],
   "source": []
  }
 ],
 "metadata": {
  "kernelspec": {
   "display_name": "base",
   "language": "python",
   "name": "python3"
  },
  "language_info": {
   "codemirror_mode": {
    "name": "ipython",
    "version": 3
   },
   "file_extension": ".py",
   "mimetype": "text/x-python",
   "name": "python",
   "nbconvert_exporter": "python",
   "pygments_lexer": "ipython3",
   "version": "3.7.4"
  },
  "vscode": {
   "interpreter": {
    "hash": "40d3a090f54c6569ab1632332b64b2c03c39dcf918b08424e98f38b5ae0af88f"
   }
  }
 },
 "nbformat": 4,
 "nbformat_minor": 1
}
