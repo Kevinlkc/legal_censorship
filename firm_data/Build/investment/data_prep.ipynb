{
 "cells": [
  {
   "cell_type": "code",
   "execution_count": 95,
   "metadata": {},
   "outputs": [],
   "source": [
    "import pandas as pd\n",
    "import re\n",
    "import os\n",
    "import numpy as np\n",
    "import matplotlib.pyplot as plt\n",
    "from ast import literal_eval\n",
    "import geopandas as gpd"
   ]
  },
  {
   "cell_type": "code",
   "execution_count": 96,
   "metadata": {},
   "outputs": [],
   "source": [
    "wd = '/Users/kevin/Dropbox/legal_censorship/'"
   ]
  },
  {
   "cell_type": "code",
   "execution_count": 97,
   "metadata": {},
   "outputs": [],
   "source": [
    "# Idea: For the subset of censored documents, we want to know whether \"censorship\" increases their chance of getting more government procurement.\n",
    "# There could be 2 directions that we can explore \n",
    "    # --> whether \"gaining\" connection adds to the chance of the government's favor, \n",
    "    # --> or whether censorship helps the firm in terms of getting more procurements.\n",
    "# To answer (1), we would need a dataset at firm (or maybe firm by year) level, with an indicator variable of connection (recent connection)\n",
    "# To answer (2), we would need a dataset at firm-year, or even firm-month level, with an indicator variable of censorship at a certain year"
   ]
  },
  {
   "cell_type": "code",
   "execution_count": 98,
   "metadata": {},
   "outputs": [
    {
     "name": "stderr",
     "output_type": "stream",
     "text": [
      "/opt/anaconda3/lib/python3.7/site-packages/IPython/core/interactiveshell.py:3326: DtypeWarning: Columns (7) have mixed types.Specify dtype option on import or set low_memory=False.\n",
      "  exec(code_obj, self.user_global_ns, self.user_ns)\n"
     ]
    },
    {
     "name": "stdout",
     "output_type": "stream",
     "text": [
      "Index(['文书ID', '案件名称', '案号', '审判程序', '裁判日期', '发布日期', '法院名称', '案件类型', '公开类型',\n",
      "       '文书类型', '案由', 'docid', 'fname', 'county', 'pref', 'code', 'prefcode',\n",
      "       '原告loc', '被告loc', 'type_原被告', '上诉', '原告pay', '被告pay', '类型_pay', '案件受理费',\n",
      "       '受理费合计', '受理费减半', '受理费免收', '起诉', '申请', '立案', '受理', '撤诉', '开庭',\n",
      "       'court_date', 'plantifflose', 'winner', 'loser', 'local_winner',\n",
      "       'local_loser'],\n",
      "      dtype='object')\n"
     ]
    },
    {
     "name": "stderr",
     "output_type": "stream",
     "text": [
      "/opt/anaconda3/lib/python3.7/site-packages/IPython/core/interactiveshell.py:3326: DtypeWarning: Columns (19) have mixed types.Specify dtype option on import or set low_memory=False.\n",
      "  exec(code_obj, self.user_global_ns, self.user_ns)\n"
     ]
    },
    {
     "name": "stdout",
     "output_type": "stream",
     "text": [
      "Index(['id', 'company_id', 'disclosure_date', 'transaction_amount',\n",
      "       'financing_rounds', 'valuation', 'proportion', 'investor',\n",
      "       'news_sources', 'state', 'create_time', 'update_time', 'unified_code_x',\n",
      "       'unified_code_y', 'ent_name', 'reg_capital', 'industry', 'start_date',\n",
      "       'district', 'district_code', '_merge'],\n",
      "      dtype='object')\n"
     ]
    },
    {
     "name": "stderr",
     "output_type": "stream",
     "text": [
      "/opt/anaconda3/lib/python3.7/site-packages/pandas/io/stata.py:1457: UnicodeWarning: \n",
      "One or more strings in the dta file could not be decoded using utf-8, and\n",
      "so the fallback encoding of latin-1 is being used.  This can happen when a file\n",
      "has been incorrectly encoded by Stata or some other software. You should verify\n",
      "the string values returned are correct.\n",
      "  warnings.warn(msg, UnicodeWarning)\n"
     ]
    },
    {
     "name": "stdout",
     "output_type": "stream",
     "text": [
      "Index(['name', 'graphid', 'legalpersonname', 'businessterm', 'regstatus',\n",
      "       'province', 'city', 'district', 'companyorgtype', 'historynames',\n",
      "       'creditcode', 'taxcode', 'regnumber', 'orgnumber',\n",
      "       'socialsecuritystaffnum', 'reglocation', 'start_year', 'start_month',\n",
      "       'start_day', 'approve_year', 'approve_month', 'approve_day',\n",
      "       'industry_category_code', 'regcapital_digital', 'actualcapital_digital',\n",
      "       '_merge'],\n",
      "      dtype='object')\n"
     ]
    }
   ],
   "source": [
    "df_censor = pd.read_csv(wd+'Data/master.csv')\n",
    "df_censor_rescrape = pd.read_csv(wd+'Data/rescraping/output/rescraping_cases_100k-result.csv', header=None)\n",
    "# 8.6 % of the master.csv is censored\n",
    "df_censor = df_censor[df_censor.案号.isin(df_censor_rescrape[df_censor_rescrape[4]=='未查询到'][2])]\n",
    "df_censor.原告loc = df_censor.原告loc.apply(literal_eval)\n",
    "df_censor.被告loc = df_censor.被告loc.apply(literal_eval)\n",
    "print(df_censor.columns)\n",
    "df_rongzi = pd.read_csv(wd+'Data/company_data/tianyancha_database/td_gov_company_rongzi_basic.csv')\n",
    "print(df_rongzi.columns)\n",
    "# Match to full company list:\n",
    "df_firmlist = pd.read_stata(wd+'Data/company_name_list/company_name_all_merged_tycbatch.dta')\n",
    "df_firmlist_copy = df_firmlist.copy()\n",
    "print(df_firmlist.columns)\n"
   ]
  },
  {
   "cell_type": "code",
   "execution_count": 99,
   "metadata": {},
   "outputs": [
    {
     "data": {
      "text/plain": [
       "0.1876050422504819"
      ]
     },
     "execution_count": 99,
     "metadata": {},
     "output_type": "execute_result"
    }
   ],
   "source": [
    "df_firmlist.legalpersonname.isin(['']).mean()"
   ]
  },
  {
   "cell_type": "code",
   "execution_count": 100,
   "metadata": {},
   "outputs": [
    {
     "name": "stdout",
     "output_type": "stream",
     "text": [
      "Crude matching rate 0.6431083184412291\n",
      "Matching rate after name match 0.4390384504525278\n"
     ]
    }
   ],
   "source": [
    "# df_firmlist = df_firmlist_copy.copy()\n",
    "# First pass matching from legal data to firm data\n",
    "df_subset = df_censor[['原告loc', '被告loc', '文书ID']]\n",
    "df_temp = df_subset.explode('被告loc')\n",
    "df_temp['被告'] = df_temp['被告loc'].apply(lambda x: x[0] if isinstance(x, list) else np.nan)\n",
    "df_firmlist.drop_duplicates('name', inplace=True)\n",
    "df_temp = pd.merge(df_temp.rename({'被告': 'name'}, axis=1), df_firmlist, on='name', validate='m:1', how='left')\n",
    "print('Crude matching rate', df_temp.industry_category_code.isna().mean())\n",
    "# Individuals (legal persons) related to firms can also be the key to the matching process\n",
    "df_temp_matched = df_temp[~df_temp.industry_category_code.isna()]\n",
    "df_temp = df_temp[df_temp.industry_category_code.isna()]\n",
    "df_firmlist = df_firmlist[~df_firmlist.legalpersonname.isin([''])]\n",
    "df_firmlist.drop_duplicates(subset='legalpersonname', inplace=True)\n",
    "df_temp = df_temp[['原告loc', '被告loc', '文书ID', 'name']]\n",
    "df_temp = pd.merge(df_temp.rename({'name': 'legalpersonname'}, axis=1), df_firmlist, on='legalpersonname', validate='m:1', how='left')\n",
    "df_temp = pd.concat([df_temp, df_temp_matched])\n",
    "print('Matching rate after name match', df_temp.industry_category_code.isna().mean())"
   ]
  },
  {
   "cell_type": "code",
   "execution_count": 101,
   "metadata": {},
   "outputs": [
    {
     "data": {
      "text/plain": [
       "Index(['id', 'company_id', 'disclosure_date', 'transaction_amount',\n",
       "       'financing_rounds', 'valuation', 'proportion', 'investor',\n",
       "       'news_sources', 'state', 'create_time', 'update_time', 'unified_code_x',\n",
       "       'unified_code_y', 'ent_name', 'reg_capital', 'industry', 'start_date',\n",
       "       'district', 'district_code', '_merge'],\n",
       "      dtype='object')"
      ]
     },
     "execution_count": 101,
     "metadata": {},
     "output_type": "execute_result"
    }
   ],
   "source": [
    "# Key columns: disclosure date, transaction_amount, financing_rounds, valuation\n",
    "df_rongzi = df_rongzi[df_rongzi.financing_rounds == '定向增发']\n",
    "def clean_amount(s):\n",
    "    if s.endswith('万人民币') or s.endswith('万元人民币'):\n",
    "        try:\n",
    "            return float(s.replace('万人民币', '').replace('万元人民币', '')) * 1e4\n",
    "        except:\n",
    "            return np.nan\n",
    "    elif s.endswith('亿人民币') or s.endswith('亿元人民币'):\n",
    "        try:\n",
    "            return float(s.replace('亿人民币', '').replace('亿元人民币', '')) * 1e8\n",
    "        except:\n",
    "            return np.nan\n",
    "    else:\n",
    "        return np.nan\n",
    "\n",
    "df_rongzi['transaction_amount'] = df_rongzi['transaction_amount'].apply(clean_amount)\n",
    "df_rongzi['transaction_amount'].fillna(df_rongzi.transaction_amount.mean(), inplace=True)\n",
    "df_rongzi_copy = df_rongzi.copy()\n",
    "df_rongzi.columns"
   ]
  },
  {
   "cell_type": "code",
   "execution_count": 102,
   "metadata": {},
   "outputs": [
    {
     "name": "stdout",
     "output_type": "stream",
     "text": [
      "matching rate 0.4390384504525278\n",
      "# \"censored\" firms with >=1 financing activities 100\n"
     ]
    }
   ],
   "source": [
    "df_rongzi = df_rongzi_copy.copy()\n",
    "# The crude matching rate is 42% -- not ideal but ok -- need to come back to this step\n",
    "print('matching rate', df_temp.industry_category_code.isna().mean())\n",
    "# 826 out of 6191 firms gets at least one financing activity observed -- that's quite reasonable.\n",
    "df_temp = df_temp[~df_temp.name.isna()]\n",
    "print('# \"censored\" firms with >=1 financing activities', df_temp.name.isin(df_rongzi.ent_name).sum())"
   ]
  },
  {
   "cell_type": "code",
   "execution_count": 108,
   "metadata": {},
   "outputs": [],
   "source": [
    "df_rongzi = df_rongzi_copy.copy()\n",
    "id_lst = df_rongzi.financing_rounds.value_counts().iloc[:15].index\n",
    "def month_to_quarter(month):\n",
    "    if month == '01' or month == '02' or month == '03':\n",
    "        return 'Q1'\n",
    "    if month == '04' or month == '05' or month == '06':\n",
    "        return 'Q2'\n",
    "    if month == '07' or month == '08' or month == '09':\n",
    "        return 'Q3'\n",
    "    if month == '10' or month == '11' or month == '12':\n",
    "        return 'Q4'\n",
    "df_rongzi['quarter'] = df_rongzi['disclosure_date'].apply(lambda x: x[:4]) + df_rongzi['disclosure_date'].apply(lambda x: month_to_quarter(x[5:7]))\n",
    "\n",
    "# df_rongzi = df_rongzi[df_rongzi.ent_name.isin(df_temp.name)]\n",
    "# df_rongzi = df_rongzi[df_rongzi.disclosure_date >= '2018']\n",
    "for i in id_lst:\n",
    "    df_rongzi[i] = df_rongzi.financing_rounds.isin([i])\n",
    "df_rongzi['state'] = 1\n",
    "df_rongzi['district_code'] = df_rongzi['district_code'].apply(str)\n",
    "df_rongzi_panel = df_rongzi.groupby(['ent_name', 'quarter']).agg(\n",
    "    num = ('state', 'sum'),\n",
    "    industry = ('industry', 'first'),\n",
    "    district_code = ('district_code', 'max'),\n",
    "    amount = ('transaction_amount', 'sum')\n",
    ")\n",
    "df_rongzi_panel = df_rongzi_panel.reset_index().sort_values(['ent_name', 'quarter'])\n",
    "\n",
    "for i in id_lst:\n",
    "    df_rongzi_panel = pd.merge(df_rongzi_panel, df_rongzi.groupby(['ent_name', 'quarter'])[i].agg(sum).reset_index(), on=['ent_name', 'quarter'], how='left', validate='1:1')"
   ]
  },
  {
   "cell_type": "code",
   "execution_count": 109,
   "metadata": {},
   "outputs": [],
   "source": [
    "# 599 rongzi incidences\n",
    "# Transform it into a balanced panel\n",
    "df_rongzi_panel.set_index('ent_name', inplace=True)\n",
    "df_balanced = df_rongzi_panel.set_index('quarter', append=True).unstack().stack(dropna=False).reset_index()\n",
    "df_balanced[['num']+[x for x in id_lst]] = df_balanced[['num']+[x for x in id_lst]].fillna(0)\n",
    "df_balanced['post'] = df_balanced.quarter.apply(lambda x: x>'2021Q1')\n",
    "df_subset = df_censor[['原告loc', '被告loc', '文书ID']]\n",
    "df_temp = df_subset.explode('被告loc')\n",
    "df_temp['被告'] = df_temp['被告loc'].apply(lambda x: x[0] if isinstance(x, list) else np.nan)\n",
    "df_balanced['treat'] = df_balanced['ent_name'].isin(df_temp.被告.unique())"
   ]
  },
  {
   "cell_type": "code",
   "execution_count": 110,
   "metadata": {},
   "outputs": [],
   "source": [
    "# The reasonable comparison group is not the full sample, but the firms that goes onto a litigation, but not receiving the favor of censorship.\n",
    "df_uncensor = pd.read_csv('/Users/kevin/Dropbox/legal_censorship/Data/master_uncensor.csv')\n",
    "df_uncensor.原告loc = df_uncensor.原告loc.apply(literal_eval)\n",
    "df_uncensor.被告loc = df_uncensor.被告loc.apply(literal_eval)\n",
    "\n",
    "df_temp2 = df_uncensor[['原告loc', '被告loc']]\n",
    "df_temp2 = df_temp2.explode('被告loc')\n",
    "df_temp2['被告'] = df_temp2['被告loc'].apply(lambda x: x[0] if isinstance(x, list) else np.nan)\n",
    "df_balanced = df_balanced[(df_balanced.ent_name.isin(df_temp2.被告.unique())) | df_balanced['ent_name'].isin(df_temp.被告.unique())]\n",
    "\n",
    "df_balanced.to_csv(wd+'Data/rongzi_firm_panel.csv', index=False)"
   ]
  }
 ],
 "metadata": {
  "kernelspec": {
   "display_name": "base",
   "language": "python",
   "name": "python3"
  },
  "language_info": {
   "codemirror_mode": {
    "name": "ipython",
    "version": 3
   },
   "file_extension": ".py",
   "mimetype": "text/x-python",
   "name": "python",
   "nbconvert_exporter": "python",
   "pygments_lexer": "ipython3",
   "version": "3.7.4"
  },
  "vscode": {
   "interpreter": {
    "hash": "40d3a090f54c6569ab1632332b64b2c03c39dcf918b08424e98f38b5ae0af88f"
   }
  }
 },
 "nbformat": 4,
 "nbformat_minor": 1
}
