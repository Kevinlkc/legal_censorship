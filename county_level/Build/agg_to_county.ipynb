{
 "cells": [
  {
   "cell_type": "code",
   "execution_count": 1,
   "metadata": {},
   "outputs": [],
   "source": [
    "import pandas as pd\n",
    "import re\n",
    "import os\n",
    "import numpy as np\n",
    "import matplotlib.pyplot as plt\n",
    "from ast import literal_eval\n",
    "import geopandas as gpd"
   ]
  },
  {
   "cell_type": "code",
   "execution_count": 2,
   "metadata": {},
   "outputs": [],
   "source": [
    "wd = '/Users/kevin/Dropbox/legal_censorship/'"
   ]
  },
  {
   "cell_type": "code",
   "execution_count": 3,
   "metadata": {},
   "outputs": [
    {
     "name": "stderr",
     "output_type": "stream",
     "text": [
      "/opt/anaconda3/lib/python3.7/site-packages/IPython/core/interactiveshell.py:3326: DtypeWarning: Columns (9) have mixed types.Specify dtype option on import or set low_memory=False.\n",
      "  exec(code_obj, self.user_global_ns, self.user_ns)\n"
     ]
    }
   ],
   "source": [
    "df_uncensor = pd.read_csv(wd+'Data/master_uncensor.csv')\n",
    "\n",
    "# Research question: are censored documents differentially ...\n",
    "    # (0) dealing with firms?\n",
    "    # (1) dealing with cases where local litigants are involved?\n",
    "    # (2) dealing with cases where local firm defendants are winning in a cross-regional lawsuit?\n",
    "    # (3) coming from higher-level courts?\n",
    "\n",
    "# Let's first focus on the random sample (as our control group), and for now we're focusing on the lawsuits where we can properly define both parties of the litigants."
   ]
  },
  {
   "cell_type": "code",
   "execution_count": 4,
   "metadata": {},
   "outputs": [
    {
     "data": {
      "text/plain": [
       "Index(['docid', '案件名称', '案号', '审判程序', '裁判日期', '发布日期', '法院名称', '案件类型', '公开类型',\n",
       "       '文书类型', '案由', '原告loc', '被告loc', 'type_原被告', '上诉', '原告pay', '被告pay',\n",
       "       '类型_pay', '案件受理费', '受理费合计', '受理费减半', '受理费免收', '起诉', '申请', '立案', '受理',\n",
       "       '撤诉', '开庭', '原告firm', '被告firm', 'court_code', '原告loc_mode',\n",
       "       '被告loc_mode', 'county_level', 'plaintiff_win'],\n",
       "      dtype='object')"
      ]
     },
     "execution_count": 4,
     "metadata": {},
     "output_type": "execute_result"
    }
   ],
   "source": [
    "df_uncensor.columns"
   ]
  },
  {
   "cell_type": "code",
   "execution_count": 7,
   "metadata": {},
   "outputs": [],
   "source": [
    "df_uncensor['year'] = df_uncensor.裁判日期.apply(lambda x: x[:4])"
   ]
  },
  {
   "cell_type": "code",
   "execution_count": 8,
   "metadata": {},
   "outputs": [],
   "source": [
    "df_uncensor = df_uncensor[df_uncensor.type_原被告 == '正常']\n",
    "# Explode, merge with SOE data, and collapse to case level\n",
    "df_uncensor['原告loc'] = df_uncensor['原告loc'].apply(literal_eval)\n",
    "df_uncensor['被告loc'] = df_uncensor['被告loc'].apply(literal_eval)"
   ]
  },
  {
   "cell_type": "code",
   "execution_count": 9,
   "metadata": {},
   "outputs": [],
   "source": [
    "df_uncensor['原告firm'] = df_uncensor['原告loc'].apply(lambda x: [y[0].find('公司')!= -1 for y in x])\n",
    "df_uncensor['被告firm'] = df_uncensor['被告loc'].apply(lambda x: [y[0].find('公司')!= -1 for y in x])\n",
    "df_uncensor['原告firm'] = df_uncensor['原告firm'].apply(any)\n",
    "df_uncensor['被告firm'] = df_uncensor['被告firm'].apply(any)"
   ]
  },
  {
   "cell_type": "code",
   "execution_count": 10,
   "metadata": {},
   "outputs": [],
   "source": [
    "# Only 10% are firm-to-firm lawsuits\n",
    "df_uncensor = df_uncensor[(df_uncensor.原告firm == True) & (df_uncensor.被告firm == True)]"
   ]
  },
  {
   "cell_type": "code",
   "execution_count": 9,
   "metadata": {},
   "outputs": [],
   "source": [
    "# First, let's take a few random samples to see what's the nature of firm-to-firm cases, individual-to-firm cases, and firm-to-individual cases\n",
    "# 1.1 firm-to-firm lawsuits are most directly reasonable\n",
    "# df_uncensor[(df_uncensor.原告firm == True) & (df_uncensor.被告firm == True)].案件名称.sample(10)\n",
    "# 1.2 individual-to-firm lawsuits are most directly reasonable\n",
    "# df_uncensor[(df_uncensor.原告firm == False) & (df_uncensor.被告firm == True)].案件名称.sample(10)"
   ]
  },
  {
   "cell_type": "code",
   "execution_count": 12,
   "metadata": {},
   "outputs": [],
   "source": [
    "df_county = df_uncensor.groupby(['原告loc_mode', 'year']).docid.count().reset_index()\n",
    "df_county.rename({'原告loc_mode': 'county', 'docid': 'plaintiff_counts'}, axis=1, inplace=True)\n",
    "df_county = df_county[df_county.county != 0]\n",
    "\n",
    "df_county2 = df_uncensor.groupby(['被告loc_mode', 'year']).docid.count().reset_index()\n",
    "df_county2.rename({'被告loc_mode': 'county', 'docid': 'defendant_counts'}, axis=1, inplace=True)\n",
    "df_county2 = df_county2[df_county2.county != 0]\n",
    "df_county = pd.merge(df_county, df_county2, on=['county', 'year'], how='outer', validate='1:1')\n",
    "\n",
    "df_county3 = df_uncensor.groupby(['court_code', 'year']).docid.count().reset_index()\n",
    "df_county3.rename({'court_code': 'county', 'docid': 'court_counts'}, axis=1, inplace=True)\n",
    "df_county3 = df_county3[df_county3.county != 0]\n",
    "df_county = pd.merge(df_county, df_county3, on=['county', 'year'], how='outer', validate='1:1')\n",
    "\n",
    "df_county['plaintiff_counts'].fillna(0, inplace=True)\n",
    "df_county['defendant_counts'].fillna(0, inplace=True)\n",
    "df_county['court_counts'].fillna(0, inplace=True)\n",
    "df_county.to_excel(wd+'Data/control_county.xlsx',index=False)"
   ]
  },
  {
   "cell_type": "code",
   "execution_count": 3,
   "metadata": {},
   "outputs": [
    {
     "name": "stderr",
     "output_type": "stream",
     "text": [
      "/opt/anaconda3/lib/python3.7/site-packages/IPython/core/interactiveshell.py:3326: DtypeWarning: Columns (7) have mixed types.Specify dtype option on import or set low_memory=False.\n",
      "  exec(code_obj, self.user_global_ns, self.user_ns)\n"
     ]
    },
    {
     "data": {
      "text/plain": [
       "Index(['文书ID', '案件名称', '案号', '审判程序', '裁判日期', '发布日期', '法院名称', '案件类型', '公开类型',\n",
       "       '文书类型', '案由', 'docid', 'fname', 'county', 'pref', 'code', 'prefcode',\n",
       "       '原告loc', '被告loc', 'type_原被告', '上诉', '原告pay', '被告pay', '类型_pay', '案件受理费',\n",
       "       '受理费合计', '受理费减半', '受理费免收', '起诉', '申请', '立案', '受理', '撤诉', '开庭',\n",
       "       'court_date', 'plantifflose', 'winner', 'loser', 'local_winner',\n",
       "       'local_loser'],\n",
       "      dtype='object')"
      ]
     },
     "execution_count": 3,
     "metadata": {},
     "output_type": "execute_result"
    }
   ],
   "source": [
    "# Articles being censored -- takes 9 minutes to load\n",
    "df_censor = pd.read_csv(wd+'Data/master.csv')\n",
    "df_censor.原告loc = df_censor.原告loc.apply(literal_eval)\n",
    "df_censor.被告loc = df_censor.被告loc.apply(literal_eval)\n",
    "\n",
    "df_censor_rescrape = pd.read_csv('/Users/kevin/Dropbox/legal_censorship/Data/rescraping/output/rescraping_cases_100k-result.csv', header=None)\n",
    "# 8.6 % of the master.csv is censored\n",
    "df_censor = df_censor[df_censor.案号.isin(df_censor_rescrape[df_censor_rescrape[4]=='未查询到'][2])]\n",
    "df_censor.columns"
   ]
  },
  {
   "cell_type": "code",
   "execution_count": 5,
   "metadata": {},
   "outputs": [],
   "source": [
    "df_censor['court_date'] = df_censor.apply(lambda x: x['court_date'] if str(x['court_date'])!='nan' else x['发布日期'], axis=1)\n",
    "df_censor['year'] = df_censor.court_date.apply(lambda x: x[:4])\n",
    "\n",
    "df_censor.drop_duplicates('docid', inplace=True)\n",
    "df_censor = df_censor[df_censor.type_原被告 == '正常']\n",
    "# # Explode, merge with SOE data, and collapse to case level\n",
    "\n",
    "df_censor['原告firm'] = df_censor['原告loc'].apply(lambda x: [y[0].find('公司')!= -1 for y in x])\n",
    "df_censor['被告firm'] = df_censor['被告loc'].apply(lambda x: [y[0].find('公司')!= -1 for y in x])\n",
    "df_censor['原告firm'] = df_censor['原告firm'].apply(any)\n",
    "df_censor['被告firm'] = df_censor['被告firm'].apply(any)\n",
    "df_censor = df_censor[(df_censor.原告firm == True) & (df_censor.被告firm == True)]"
   ]
  },
  {
   "cell_type": "code",
   "execution_count": 6,
   "metadata": {},
   "outputs": [],
   "source": [
    "df_censor['code'] = df_censor['code'].apply(lambda x: x*10 if x < 1e5 else x)\n",
    "df_censor['原告loc_mode'] = df_censor.原告loc.apply(lambda lst: max(set([x[2] for x in lst]), key=[x[2] for x in lst].count) if len(lst) > 0 else np.nan)\n",
    "df_censor['被告loc_mode'] = df_censor.被告loc.apply(lambda lst: max(set([x[2] for x in lst]), key=[x[2] for x in lst].count) if len(lst) > 0 else np.nan)"
   ]
  },
  {
   "cell_type": "code",
   "execution_count": 7,
   "metadata": {},
   "outputs": [],
   "source": [
    "df_county = df_censor.groupby(['原告loc_mode', 'year']).docid.count().reset_index()\n",
    "df_county.rename({'原告loc_mode': 'county', 'docid': 'plaintiff_counts'}, axis=1, inplace=True)\n",
    "df_county['county'] = df_county.county.astype(float)\n",
    "df_county = df_county[df_county.county != 0]\n",
    "\n",
    "df_county2 = df_censor.groupby(['被告loc_mode', 'year']).docid.count().reset_index()\n",
    "df_county2.rename({'被告loc_mode': 'county', 'docid': 'defendant_counts'}, axis=1, inplace=True)\n",
    "df_county2['county'] = df_county2.county.astype(float)\n",
    "df_county2 = df_county2[df_county2.county != 0]\n",
    "df_county = pd.merge(df_county, df_county2, on=['county','year'], how='outer', validate='1:1')\n",
    "\n",
    "df_county3 = df_censor.groupby(['code', 'year']).docid.count().reset_index()\n",
    "df_county3.rename({'code': 'county', 'docid': 'court_counts'}, axis=1, inplace=True)\n",
    "df_county3 = df_county3[df_county3.county != 0]\n",
    "df_county = pd.merge(df_county, df_county3, on=['county', 'year'], how='outer', validate='1:1')\n",
    "\n",
    "df_county['plaintiff_counts'].fillna(0, inplace=True)\n",
    "df_county['defendant_counts'].fillna(0, inplace=True)\n",
    "df_county['court_counts'].fillna(0, inplace=True)\n",
    "df_county.to_excel(wd+'Data/treat_county.xlsx',index=False)"
   ]
  },
  {
   "cell_type": "code",
   "execution_count": 14,
   "metadata": {},
   "outputs": [],
   "source": [
    "# Transform the dataset to a balanced panel\n",
    "df_county.set_index('county', inplace=True)\n",
    "df = df_county.set_index('year', append=True).unstack().stack(dropna=False)\n",
    "df['plaintiff_counts'].fillna(0, inplace=True)\n",
    "df['defendant_counts'].fillna(0, inplace=True)\n",
    "df['court_counts'].fillna(0, inplace=True)\n",
    "df.reset_index().to_excel(wd+'Data/treat_county.xlsx',index=False)"
   ]
  },
  {
   "cell_type": "code",
   "execution_count": null,
   "metadata": {},
   "outputs": [],
   "source": []
  }
 ],
 "metadata": {
  "kernelspec": {
   "display_name": "base",
   "language": "python",
   "name": "python3"
  },
  "language_info": {
   "codemirror_mode": {
    "name": "ipython",
    "version": 3
   },
   "file_extension": ".py",
   "mimetype": "text/x-python",
   "name": "python",
   "nbconvert_exporter": "python",
   "pygments_lexer": "ipython3",
   "version": "3.7.4"
  },
  "vscode": {
   "interpreter": {
    "hash": "40d3a090f54c6569ab1632332b64b2c03c39dcf918b08424e98f38b5ae0af88f"
   }
  }
 },
 "nbformat": 4,
 "nbformat_minor": 1
}
