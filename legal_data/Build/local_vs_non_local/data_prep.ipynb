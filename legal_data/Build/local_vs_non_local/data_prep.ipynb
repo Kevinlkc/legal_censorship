{
 "cells": [
  {
   "cell_type": "code",
   "execution_count": 1,
   "metadata": {},
   "outputs": [],
   "source": [
    "import pandas as pd\n",
    "import re\n",
    "import os\n",
    "import numpy as np\n",
    "import matplotlib.pyplot as plt\n",
    "from ast import literal_eval\n",
    "import geopandas as gpd"
   ]
  },
  {
   "cell_type": "code",
   "execution_count": 2,
   "metadata": {},
   "outputs": [],
   "source": [
    "wd = '/Users/kevin/Dropbox/legal_censorship/'"
   ]
  },
  {
   "cell_type": "code",
   "execution_count": 3,
   "metadata": {},
   "outputs": [],
   "source": [
    "# Converting xlsx files to csv so that it speeds up doc reading\n",
    "# for i in range(1,5):\n",
    "#     df = pd.read_excel(wd+'Data/civil_random_sample/civil_random_sample_p'+str(i)+'.xlsx')\n",
    "#     print(i, 'load complete')\n",
    "#     df = df[['案件名称', '法院名称', '审理法院', '文书ID', '文书类型', '案号', '案件类型', '审判程序', '裁判日期', '发布日期', '全文', '公开类型']]\n",
    "#     df.to_csv(wd+'Data/civil_random_sample/civil_random_sample_p'+str(i)+'.csv', index=False)\n",
    "#     del df"
   ]
  },
  {
   "cell_type": "code",
   "execution_count": 4,
   "metadata": {},
   "outputs": [
    {
     "name": "stderr",
     "output_type": "stream",
     "text": [
      "/opt/anaconda3/lib/python3.7/site-packages/IPython/core/interactiveshell.py:3326: DtypeWarning: Columns (9) have mixed types.Specify dtype option on import or set low_memory=False.\n",
      "  exec(code_obj, self.user_global_ns, self.user_ns)\n"
     ]
    },
    {
     "name": "stdout",
     "output_type": "stream",
     "text": [
      "0.33371490009098287\n",
      "0.32978787592648967\n",
      "0.34355939061584395\n",
      "0.29681416755780343\n",
      "0.1985352745286463\n",
      "0.5132606697678355\n",
      "0.4292914052229772\n",
      "0.8606918857522313\n"
     ]
    }
   ],
   "source": [
    "df_uncensor = pd.read_csv(wd+'Data/master_uncensor.csv')\n",
    "\n",
    "# Research question: are censored documents differentially ...\n",
    "    # (0) dealing with firms?\n",
    "    # (1) dealing with cases where local litigants are involved?\n",
    "    # (2) dealing with cases where local firm defendants are winning in a cross-regional lawsuit?\n",
    "    # (3) coming from higher-level courts?\n",
    "\n",
    "# Let's first focus on the random sample (as our control group), and for now we're focusing on the lawsuits where we can properly define both parties of the litigants.\n",
    "df = df_uncensor[df_uncensor.type_原被告 == '正常']\n",
    "\n",
    "## Q0:\n",
    "print(df.原告firm.mean()) # 0.3337\n",
    "print(df.被告firm.mean()) # 0.3298\n",
    "## Q1:\n",
    "print((df.原告loc_mode.astype(float) == df.court_code).mean()) # 0.3440\n",
    "print((df.被告loc_mode.astype(float) == df.court_code).mean()) # 0.2985\n",
    "print(((df.被告loc_mode.astype(float) == df.court_code) & (df.原告loc_mode.astype(float) == df.court_code)).mean()) # 0.1993\n",
    "## Q2:\n",
    "print(df[(df.原告loc_mode.astype(float) == df.court_code) & (df.被告loc_mode.astype(float) != df.court_code) & (df.原告firm==True) & (df.被告firm==True)].plaintiff_win.mean()) # 0.5132\n",
    "print(df[(df.原告loc_mode.astype(float) != df.court_code) & (df.被告loc_mode.astype(float) == df.court_code) & (df.原告firm==True) & (df.被告firm==True)].plaintiff_win.mean()) # 0.4313\n",
    "## Q3:\n",
    "print(df.county_level.mean()) # 0.8607"
   ]
  },
  {
   "cell_type": "code",
   "execution_count": 15,
   "metadata": {},
   "outputs": [
    {
     "name": "stdout",
     "output_type": "stream",
     "text": [
      "0.4417269535871526\n",
      "0.41349592005134317\n"
     ]
    }
   ],
   "source": [
    "print(df[(df.原告loc_mode.astype(float) == df.court_code) & (df.被告loc_mode.astype(float) != df.court_code) & (df.原告firm==True) & (df.被告firm==True)].plaintiff_win.mean()) # 0.4417\n",
    "print(df[(df.原告loc_mode.astype(float) != df.court_code) & (df.被告loc_mode.astype(float) == df.court_code) & (df.原告firm==True) & (df.被告firm==True)].plaintiff_win.mean()) # 0.4135"
   ]
  },
  {
   "cell_type": "code",
   "execution_count": 5,
   "metadata": {},
   "outputs": [
    {
     "name": "stdout",
     "output_type": "stream",
     "text": [
      "0.7391678034851907\n",
      "民事一审      3294499\n",
      "民事二审       371873\n",
      "特别程序        97008\n",
      "民事审判监督      75303\n",
      "其他          46378\n",
      "Name: 审判程序, dtype: int64\n",
      "0.8301250441582815\n",
      "1.0     1752334\n",
      "2.0     1472127\n",
      "3.0      629191\n",
      "10.0      62316\n",
      "5.0       23185\n",
      "Name: 文书类型, dtype: int64\n",
      "民间借贷纠纷         579259\n",
      "离婚纠纷           321301\n",
      "买卖合同纠纷         292872\n",
      "机动车交通事故责任纠纷    242398\n",
      "金融借款合同纠纷       233351\n",
      "dtype: int64\n",
      "民事一审        2395878\n",
      "民事二审         340301\n",
      "民事审判监督        70978\n",
      "其他            41215\n",
      "非诉财产保全审查      26871\n",
      "Name: 审判程序, dtype: int64\n",
      "0.8167248959355641\n",
      "1.0    1610761\n",
      "2.0    1274955\n",
      "3.0      12010\n",
      "5.0      10834\n",
      "9.0       9820\n",
      "Name: 文书类型, dtype: int64\n"
     ]
    },
    {
     "name": "stderr",
     "output_type": "stream",
     "text": [
      "/opt/anaconda3/lib/python3.7/site-packages/ipykernel_launcher.py:21: SettingWithCopyWarning: \n",
      "A value is trying to be set on a copy of a slice from a DataFrame.\n",
      "Try using .loc[row_indexer,col_indexer] = value instead\n",
      "\n",
      "See the caveats in the documentation: https://pandas.pydata.org/pandas-docs/stable/user_guide/indexing.html#returning-a-view-versus-a-copy\n"
     ]
    },
    {
     "name": "stdout",
     "output_type": "stream",
     "text": [
      "民间借贷纠纷         444953\n",
      "买卖合同纠纷         223979\n",
      "金融借款合同纠纷       200604\n",
      "机动车交通事故责任纠纷    179629\n",
      "物业服务合同纠纷       140781\n",
      "dtype: int64\n"
     ]
    }
   ],
   "source": [
    "# A few other stylized facts:\n",
    "# 0) 隐去被告/原告信息的案件\n",
    "print((df_uncensor.type_原被告 == '正常').mean())\n",
    "# 1) 审判程序\n",
    "print(df_uncensor.审判程序.value_counts()[:5])\n",
    "print((df_uncensor.审判程序 == '民事一审').mean())\n",
    "# 2) 文书类型\n",
    "print(df_uncensor.文书类型.value_counts()[:5])\n",
    "# 3) 案由:: tempreason.shape == (3648145,)\n",
    "df_uncensor['案由'] = df_uncensor.案由.apply(literal_eval)\n",
    "tempreason = pd.Series([element for list_ in df_uncensor['案由'].values for element in list_])\n",
    "print(tempreason.value_counts()[:5])\n",
    "\n",
    "# Replicating the same items on df (dropping observations with un-identified names)\n",
    "# 1) 审判程序\n",
    "print(df.审判程序.value_counts()[:5])\n",
    "print((df.审判程序 == '民事一审').mean())\n",
    "# 2) 文书类型\n",
    "print(df.文书类型.value_counts()[:5])\n",
    "# 3) 案由:: tempreason.shape == (3648145,)\n",
    "df['案由'] = df.案由.apply(literal_eval)\n",
    "tempreason2 = pd.Series([element for list_ in df['案由'].values for element in list_])\n",
    "print(tempreason2.value_counts()[:5])"
   ]
  },
  {
   "cell_type": "code",
   "execution_count": 6,
   "metadata": {},
   "outputs": [],
   "source": [
    "# # Merge judge data\n",
    "# df_judge = pd.read_excel(wd+'Data/civil_docx2019_only_cleaning/civil_docx2019_only_judges_1.xlsx')\n",
    "# for i in [2, 3]:\n",
    "#     df_temp = pd.read_excel(wd+'Data/civil_docx2019_only_cleaning/civil_docx2019_only_judges_'+str(i)+'.xlsx')\n",
    "#     df_judge = pd.concat([df_judge, df_temp])\n",
    "#     del df_temp\n",
    "# print(df_judge.columns)\n",
    "# df_judge.sample(10)"
   ]
  },
  {
   "cell_type": "code",
   "execution_count": 8,
   "metadata": {},
   "outputs": [],
   "source": [
    "# # There's no need to re-run this chunk for replication purposes, because this output is unambiguous. What we do here is to create a court to county mapping.\n",
    "# \"\"\"\n",
    "# df_uncensor = df_otherattr[~df_otherattr.法院名称.isna()]\n",
    "# # Look for the county names\n",
    "# county_code = pd.read_excel(wd+'Data/shapefiles/China County Index Code.xls')\n",
    "# county_code = county_code[(~county_code.prefecture.isna()) & (county_code.dcode % 100 != 0)]\n",
    "# county_code['prefecture'] = county_code.apply(lambda x: x['city']+x['prefecture'] if x['prefecture'].endswith('区') else x['prefecture'], axis=1)\n",
    "# cty_lst = county_code.prefecture.unique()\n",
    "# def find_cty(court):\n",
    "#     for cty in cty_lst:\n",
    "#         if court.find(cty) != -1:\n",
    "#             return cty\n",
    "#     return np.nan\n",
    "\n",
    "# df_otherattr['county'] = df_otherattr.法院名称.apply(find_cty)\n",
    "\n",
    "# china = gpd.read_file(wd+\"Data/shapefiles/chn_admbnda_adm2_ocha_2020.shp\", encoding='utf-8')\n",
    "# def shorten_names(x):\n",
    "#     x = x.replace('市', '').replace('自治州', '').replace('盟', '').replace('自治县', '').replace('地区', '')\n",
    "#     temp = re.match(r'(.*)\\[(.*)\\]', x)\n",
    "#     temp2 = re.match(r'(.*)\\〔(.*)\\〕', x)\n",
    "#     if temp:\n",
    "#         return temp.group(1)\n",
    "#     elif temp2:\n",
    "#         return temp2.group(1)\n",
    "#     else:\n",
    "#         return x\n",
    "\n",
    "# # Look for the prefecture names\n",
    "# china['ADM2_ZH'] = china['ADM2_ZH'].apply(shorten_names)\n",
    "# cty_lst = china['ADM2_ZH'].unique()\n",
    "# def find_cty(court):\n",
    "#     for cty in cty_lst:\n",
    "#         if court.find(cty) != -1:\n",
    "#             return cty\n",
    "#     return np.nan\n",
    "\n",
    "# df_otherattr['pref'] = df_otherattr.法院名称.apply(find_cty)\n",
    "# # Map county names and prefecture names to their corresponding county / prefecture codes\n",
    "# china['ADM2_PCODE'] = china['ADM2_PCODE'].apply(lambda x: int(x[2:]))\n",
    "# county_to_code = dict(county_code[['prefecture', 'dcode']].values)\n",
    "# pref_to_code = dict(china[['ADM2_ZH', 'ADM2_PCODE']].values)\n",
    "\n",
    "# pref_to_code[np.nan] = np.nan\n",
    "# df_otherattr['code'] = df_otherattr.apply(lambda x: county_to_code[x['county']] if str(x['county'])!='nan' else pref_to_code[x['pref']], axis=1)\n",
    "# df_otherattr.code.isna().mean() # about 2.8% of missing values\n",
    "\n",
    "# df_otherattr[['法院名称', 'code']].drop_duplicates().to_csv(wd+'Data/court_to_code.csv', index=False, encoding='utf-8')\n",
    "# \"\"\""
   ]
  },
  {
   "cell_type": "code",
   "execution_count": 14,
   "metadata": {},
   "outputs": [
    {
     "name": "stderr",
     "output_type": "stream",
     "text": [
      "/opt/anaconda3/lib/python3.7/site-packages/IPython/core/interactiveshell.py:3326: DtypeWarning: Columns (7) have mixed types.Specify dtype option on import or set low_memory=False.\n",
      "  exec(code_obj, self.user_global_ns, self.user_ns)\n"
     ]
    },
    {
     "name": "stdout",
     "output_type": "stream",
     "text": [
      "Index(['文书ID', '案件名称', '案号', '审判程序', '裁判日期', '发布日期', '法院名称', '案件类型', '公开类型',\n",
      "       '文书类型', '案由', 'docid', 'fname', 'county', 'pref', 'code', 'prefcode',\n",
      "       '原告loc', '被告loc', 'type_原被告', '上诉', '原告pay', '被告pay', '类型_pay', '案件受理费',\n",
      "       '受理费合计', '受理费减半', '受理费免收', '起诉', '申请', '立案', '受理', '撤诉', '开庭',\n",
      "       'court_date', 'plantifflose', 'winner', 'loser', 'local_winner',\n",
      "       'local_loser'],\n",
      "      dtype='object')\n",
      "0.5549155520843503\n",
      "0.633408181196915\n",
      "0.31162745289465976\n",
      "0.20823977350385628\n",
      "0.08454554329786196\n",
      "0.9147982062780269\n",
      "0.872791519434629\n",
      "0.7747233748271093\n",
      "0.8660548667382603\n"
     ]
    }
   ],
   "source": [
    "# Articles being censored -- takes 9 minutes to load\n",
    "df_censor = pd.read_csv(wd+'Data/master.csv')\n",
    "print(df_censor.columns)\n",
    "\n",
    "df_censor_rescrape = pd.read_csv('/Users/kevin/Dropbox/legal_censorship/Data/rescraping/output/rescraping_cases_100k-result.csv', header=None)\n",
    "# 8.6 % of the master.csv is censored\n",
    "df_censor = df_censor[df_censor.案号.isin(df_censor_rescrape[df_censor_rescrape[4]=='未查询到'][2])]\n",
    "df_censor.columns\n",
    "\n",
    "df_censor['原告loc'] = df_censor['原告loc'].apply(literal_eval)\n",
    "df_censor['被告loc'] = df_censor['被告loc'].apply(literal_eval)\n",
    "\n",
    "# 1 -- Add var: firm dummies\n",
    "df_censor['原告firm'] = df_censor['原告loc'].apply(lambda x: [y[0].find('公司')!= -1 for y in x])\n",
    "df_censor['被告firm'] = df_censor['被告loc'].apply(lambda x: [y[0].find('公司')!= -1 for y in x])\n",
    "df_censor['原告firm'] = df_censor['原告firm'].apply(any)\n",
    "df_censor['被告firm'] = df_censor['被告firm'].apply(any)\n",
    "\n",
    "court_to_code = pd.read_csv(wd+'Data/court_to_code.csv')\n",
    "court_to_code = dict(court_to_code.values)\n",
    "# 2 -- Add var: court location GB code\n",
    "df_censor['court_code'] = df_censor['法院名称'].apply(lambda x: court_to_code[x] if x in court_to_code else np.nan)\n",
    "\n",
    "# 3 -- Where are the litigants?\n",
    "df_censor['原告loc_mode'] = df_censor.原告loc.apply(lambda lst: max(set([x[2] for x in lst]), key=[x[2] for x in lst].count) if len(lst) > 0 else np.nan)\n",
    "df_censor['被告loc_mode'] = df_censor.被告loc.apply(lambda lst: max(set([x[2] for x in lst]), key=[x[2] for x in lst].count) if len(lst) > 0 else np.nan)\n",
    "\n",
    "# 4 -- what kind of court is it?\n",
    "df_censor['county_level'] = df_censor['court_code'].apply(lambda x: x % 100 !=0)\n",
    "df_censor['county_level'] = df_censor.apply(lambda x: True if x['法院名称'].find('区')!=-1 else x['county_level'], axis=1)\n",
    "\n",
    "# 5 -- who is the winner?\n",
    "df_censor['plaintiff_win'] = df_censor['被告pay'] > df_censor['原告pay']\n",
    "\n",
    "df2 = df_censor[df_censor.type_原被告 == '正常']\n",
    "\n",
    "# Research question: are censored documents differentially ...\n",
    "    # (0) dealing with firms?\n",
    "    # (1) dealing with cases where local litigants are involved?\n",
    "    # (2) dealing with cases where local firm defendants are winning in a cross-regional lawsuit?\n",
    "    # (3) coming from higher-level courts?\n",
    "\n",
    "# Note: the number before the \"vs.\" is the one for the random sample, the number after the \"vs.\" is the one for the censored sample\n",
    "## Q0:\n",
    "print(df2.原告firm.mean()) # 0.5549 vs. 0.3449\n",
    "print(df2.被告firm.mean()) # 0.6334 vs. 0.3225\n",
    "## Q1:\n",
    "print((df2.原告loc_mode.astype(float) == df2.court_code).mean()) # 0.3116 vs. 0.3526\n",
    "print((df2.被告loc_mode.astype(float) == df2.court_code).mean()) # 0.2082 vs. 0.2727\n",
    "print(((df2.被告loc_mode.astype(float) == df2.court_code) & (df2.原告loc_mode.astype(float) == df2.court_code)).mean()) # 0.0845 vs. 0.1796\n",
    "## Q2:\n",
    "print(df2[(df2.原告loc_mode.astype(float) == df2.court_code) & (df2.被告loc_mode.astype(float) != df2.court_code) & (df2.原告firm==True) & (df2.被告firm==True)].plaintiff_win.mean()) # 0.6776 vs. 0.5493\n",
    "print(df2[(df2.原告loc_mode.astype(float) != df2.court_code) & (df2.被告loc_mode.astype(float) == df2.court_code) & (df2.原告firm==True) & (df2.被告firm==True)].plaintiff_win.mean())\n",
    "print(df2[(df2.原告loc_mode.astype(float) != df2.court_code) & (df2.被告loc_mode.astype(float) != df2.court_code)].plaintiff_win.mean()) # 0.7747 vs. 0.5616\n",
    "## Q3:\n",
    "print(df2.county_level.mean()) # 0.8660 vs. 0.8857"
   ]
  },
  {
   "cell_type": "code",
   "execution_count": 11,
   "metadata": {},
   "outputs": [
    {
     "name": "stdout",
     "output_type": "stream",
     "text": [
      "nan\n",
      "nan\n"
     ]
    }
   ],
   "source": [
    "df2 = df_censor[df_censor.type_原被告 == '正常']\n"
   ]
  },
  {
   "cell_type": "code",
   "execution_count": 13,
   "metadata": {},
   "outputs": [
    {
     "data": {
      "text/html": [
       "<div>\n",
       "<style scoped>\n",
       "    .dataframe tbody tr th:only-of-type {\n",
       "        vertical-align: middle;\n",
       "    }\n",
       "\n",
       "    .dataframe tbody tr th {\n",
       "        vertical-align: top;\n",
       "    }\n",
       "\n",
       "    .dataframe thead th {\n",
       "        text-align: right;\n",
       "    }\n",
       "</style>\n",
       "<table border=\"1\" class=\"dataframe\">\n",
       "  <thead>\n",
       "    <tr style=\"text-align: right;\">\n",
       "      <th></th>\n",
       "      <th>文书ID</th>\n",
       "      <th>案件名称</th>\n",
       "      <th>案号</th>\n",
       "      <th>审判程序</th>\n",
       "      <th>裁判日期</th>\n",
       "      <th>发布日期</th>\n",
       "      <th>法院名称</th>\n",
       "      <th>案件类型</th>\n",
       "      <th>公开类型</th>\n",
       "      <th>文书类型</th>\n",
       "      <th>...</th>\n",
       "      <th>loser</th>\n",
       "      <th>local_winner</th>\n",
       "      <th>local_loser</th>\n",
       "      <th>原告firm</th>\n",
       "      <th>被告firm</th>\n",
       "      <th>court_code</th>\n",
       "      <th>原告loc_mode</th>\n",
       "      <th>被告loc_mode</th>\n",
       "      <th>county_level</th>\n",
       "      <th>plaintiff_win</th>\n",
       "    </tr>\n",
       "  </thead>\n",
       "  <tbody>\n",
       "  </tbody>\n",
       "</table>\n",
       "<p>0 rows × 47 columns</p>\n",
       "</div>"
      ],
      "text/plain": [
       "Empty DataFrame\n",
       "Columns: [文书ID, 案件名称, 案号, 审判程序, 裁判日期, 发布日期, 法院名称, 案件类型, 公开类型, 文书类型, 案由, docid, fname, county, pref, code, prefcode, 原告loc, 被告loc, type_原被告, 上诉, 原告pay, 被告pay, 类型_pay, 案件受理费, 受理费合计, 受理费减半, 受理费免收, 起诉, 申请, 立案, 受理, 撤诉, 开庭, court_date, plantifflose, winner, loser, local_winner, local_loser, 原告firm, 被告firm, court_code, 原告loc_mode, 被告loc_mode, county_level, plaintiff_win]\n",
       "Index: []\n",
       "\n",
       "[0 rows x 47 columns]"
      ]
     },
     "execution_count": 13,
     "metadata": {},
     "output_type": "execute_result"
    }
   ],
   "source": []
  },
  {
   "cell_type": "code",
   "execution_count": null,
   "metadata": {},
   "outputs": [],
   "source": [
    "# Takeaway: the most shocking difference is the plaintiff win rate for local defendants and non-local plaintiffs.\n",
    "# We see that censored lawsuits are featured with a significantly higher non-local plaintiff win rate, which suggests some incentive to protect the local business."
   ]
  },
  {
   "cell_type": "code",
   "execution_count": 7,
   "metadata": {},
   "outputs": [
    {
     "name": "stdout",
     "output_type": "stream",
     "text": [
      "0.9628689603308893\n",
      "一审           9095\n",
      "二审           1275\n",
      "其他            150\n",
      "再审             53\n",
      "再审审查与审判监督       1\n",
      "Name: 审判程序, dtype: int64\n",
      "0.8549539387102839\n",
      "Series([], Name: 文书类型, dtype: int64)\n",
      "1.0\n"
     ]
    },
    {
     "name": "stderr",
     "output_type": "stream",
     "text": [
      "/opt/anaconda3/lib/python3.7/site-packages/ipykernel_launcher.py:13: DeprecationWarning: The default dtype for empty Series will be 'object' instead of 'float64' in a future version. Specify a dtype explicitly to silence this warning.\n",
      "  del sys.path[0]\n"
     ]
    },
    {
     "name": "stdout",
     "output_type": "stream",
     "text": [
      "Series([], dtype: int64)\n",
      "一审           8728\n",
      "二审           1250\n",
      "其他            150\n",
      "再审             52\n",
      "再审审查与审判监督       1\n",
      "Name: 审判程序, dtype: int64\n",
      "0.8520941130528166\n",
      "Series([], Name: 文书类型, dtype: int64)\n",
      "Series([], dtype: int64)\n"
     ]
    },
    {
     "name": "stderr",
     "output_type": "stream",
     "text": [
      "/opt/anaconda3/lib/python3.7/site-packages/ipykernel_launcher.py:25: DeprecationWarning: The default dtype for empty Series will be 'object' instead of 'float64' in a future version. Specify a dtype explicitly to silence this warning.\n"
     ]
    }
   ],
   "source": [
    "# A few other stylized facts:\n",
    "# 0) 隐去被告/原告信息的案件\n",
    "print((df_censor.type_原被告 == '正常').mean())\n",
    "# 1) 审判程序\n",
    "print(df_censor.审判程序.value_counts()[:5])\n",
    "print((df_censor.审判程序 == '一审').mean())\n",
    "# 2) 文书类型\n",
    "print(df_censor.文书类型.value_counts()[:5])\n",
    "# 3) 案由:: tempreason.shape == (3648145,)\n",
    "print(df_censor.案由.isna().mean())\n",
    "df_censor = df_censor[~df_censor.案由.isna()]\n",
    "df_censor['案由'] = df_censor.案由.apply(literal_eval)\n",
    "tempreason = pd.Series([element for list_ in df_censor['案由'].values for element in list_])\n",
    "print(tempreason.value_counts()[:5])\n",
    "\n",
    "# Replicating the same items on df (dropping observations with un-identified names)\n",
    "# 1) 审判程序\n",
    "print(df2.审判程序.value_counts()[:5])\n",
    "print((df2.审判程序 == '一审').mean())\n",
    "# 2) 文书类型\n",
    "print(df2.文书类型.value_counts()[:5])\n",
    "# 3) 案由:: tempreason.shape == (3648145,)\n",
    "df2 = df2[~df2.案由.isna()]\n",
    "df2['案由'] = df2.案由.apply(literal_eval)\n",
    "tempreason2 = pd.Series([element for list_ in df2['案由'].values for element in list_])\n",
    "print(tempreason2.value_counts()[:5])\n",
    "# Export some aggregate data:\n",
    "# (1) county-by-year\n",
    "# (2) county\n",
    "# (3) county-by-judge"
   ]
  }
 ],
 "metadata": {
  "interpreter": {
   "hash": "40d3a090f54c6569ab1632332b64b2c03c39dcf918b08424e98f38b5ae0af88f"
  },
  "kernelspec": {
   "display_name": "Python 3.7.4 ('base')",
   "language": "python",
   "name": "python3"
  },
  "language_info": {
   "codemirror_mode": {
    "name": "ipython",
    "version": 3
   },
   "file_extension": ".py",
   "mimetype": "text/x-python",
   "name": "python",
   "nbconvert_exporter": "python",
   "pygments_lexer": "ipython3",
   "version": "3.7.4"
  }
 },
 "nbformat": 4,
 "nbformat_minor": 1
}
